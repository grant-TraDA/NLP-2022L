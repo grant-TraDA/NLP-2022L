{
  "nbformat": 4,
  "nbformat_minor": 0,
  "metadata": {
    "colab": {
      "name": "matchsum.ipynb",
      "provenance": [],
      "collapsed_sections": []
    },
    "kernelspec": {
      "name": "python3",
      "display_name": "Python 3"
    },
    "language_info": {
      "name": "python"
    },
    "accelerator": "GPU"
  },
  "cells": [
    {
      "cell_type": "markdown",
      "source": [
        "# MatchSum summarization - tests\n",
        "This notebook's purpose is to recreate test results of MatchSum summmarization performed on CNN/DailyMail news dataset.\n",
        "Link to original repository: https://github.com/maszhongming/MatchSum\n",
        "\n",
        "## Prequisites\n",
        "To perform these test, one must connect to Google Drive and have these directories and files:\n",
        "* directory `models` with file `MatchSum_cnndm_bert.ckpt` available at [this link](https://drive.google.com/file/d/1PxMHpDSvP1OJfj1et4ToklevQzcPr-HQ/view?usp=sharing)\n",
        "* directory `data` with file `test_CNNDM_bert.jsonl` available at [this link](https://drive.google.com/open?id=1FG4oiQ6rknIeL2WLtXD0GWyh6pBH9-hX)\n",
        "\n",
        "These files allow to load pre-trained model and preprocessed data for tests.\n",
        "\n",
        "Important: GPU support must be enabled in the colab environment."
      ],
      "metadata": {
        "id": "WfdrlSQbH8WL"
      }
    },
    {
      "cell_type": "markdown",
      "source": [
        "## Mounting Google Drive"
      ],
      "metadata": {
        "id": "jOOp1l5sK2bC"
      }
    },
    {
      "cell_type": "code",
      "execution_count": null,
      "metadata": {
        "colab": {
          "base_uri": "https://localhost:8080/"
        },
        "id": "ycgE3ui8d_fH",
        "outputId": "450b89f4-dd87-44c9-fca1-40bd12b2ef69"
      },
      "outputs": [
        {
          "output_type": "stream",
          "name": "stdout",
          "text": [
            "Mounted at /content/drive\n"
          ]
        }
      ],
      "source": [
        "from google.colab import drive\n",
        "drive.mount('/content/drive')"
      ]
    },
    {
      "cell_type": "markdown",
      "source": [
        "## Cloning repository with MatchSum"
      ],
      "metadata": {
        "id": "CNZAyS4LLAmh"
      }
    },
    {
      "cell_type": "code",
      "source": [
        "!git clone https://github.com/WojtekBogucki/MatchSum.git"
      ],
      "metadata": {
        "id": "tzwlp0rueKR5"
      },
      "execution_count": null,
      "outputs": []
    },
    {
      "cell_type": "markdown",
      "source": [
        "## Installing ROUGE"
      ],
      "metadata": {
        "id": "sfyjC6KeLKPt"
      }
    },
    {
      "cell_type": "code",
      "source": [
        "!git clone https://github.com/andersjo/pyrouge.git rouge\n",
        "!git clone https://github.com/bheinzerling/pyrouge"
      ],
      "metadata": {
        "id": "iU9Vq5OVfKiJ"
      },
      "execution_count": null,
      "outputs": []
    },
    {
      "cell_type": "code",
      "source": [
        "%cd pyrouge/"
      ],
      "metadata": {
        "colab": {
          "base_uri": "https://localhost:8080/"
        },
        "id": "KLP5kiJmgE_M",
        "outputId": "74645869-88e3-4617-a26d-be09c634b645"
      },
      "execution_count": null,
      "outputs": [
        {
          "output_type": "stream",
          "name": "stdout",
          "text": [
            "/content/pyrouge\n"
          ]
        }
      ]
    },
    {
      "cell_type": "code",
      "source": [
        "!python setup.py install\n",
        "!pyrouge_set_rouge_path '/content/rouge/tools/ROUGE-1.5.5'"
      ],
      "metadata": {
        "id": "gZP5MZrXgLjd"
      },
      "execution_count": null,
      "outputs": []
    },
    {
      "cell_type": "code",
      "source": [
        "%cd ../rouge/tools/ROUGE-1.5.5/data"
      ],
      "metadata": {
        "colab": {
          "base_uri": "https://localhost:8080/"
        },
        "id": "TmlK7YrfgPcw",
        "outputId": "e25d1e81-a607-4857-883f-22bded275115"
      },
      "execution_count": null,
      "outputs": [
        {
          "output_type": "stream",
          "name": "stdout",
          "text": [
            "/content/rouge/tools/ROUGE-1.5.5/data\n"
          ]
        }
      ]
    },
    {
      "cell_type": "code",
      "source": [
        "!rm \"WordNet-2.0.exc.db\"\n",
        "!perl ./WordNet-2.0-Exceptions/buildExeptionDB.pl ./WordNet-2.0-Exceptions ./smart_common_words.txt ./WordNet-2.0.exc.db\n",
        "!cpan install XML::DOM"
      ],
      "metadata": {
        "id": "cFuN60mvgYZl"
      },
      "execution_count": null,
      "outputs": []
    },
    {
      "cell_type": "code",
      "source": [
        "!pip install torch fastNLP pyrouge==0.1.3 transformers==2.5.1 rouge"
      ],
      "metadata": {
        "id": "NV4bCx2Mnvw2"
      },
      "execution_count": null,
      "outputs": []
    },
    {
      "cell_type": "markdown",
      "source": [
        "## Setting up data directory and ROUGE path"
      ],
      "metadata": {
        "id": "PtE6VzDTLVKo"
      }
    },
    {
      "cell_type": "code",
      "source": [
        "%mkdir /content/MatchSum/data/"
      ],
      "metadata": {
        "id": "IyHsTULdpd9n"
      },
      "execution_count": null,
      "outputs": []
    },
    {
      "cell_type": "code",
      "source": [
        "!cp /content/drive/MyDrive/data/test_CNNDM_bert.jsonl /content/MatchSum/data/"
      ],
      "metadata": {
        "id": "LITIO7STjnE1"
      },
      "execution_count": null,
      "outputs": []
    },
    {
      "cell_type": "code",
      "source": [
        "%cd /content/MatchSum/"
      ],
      "metadata": {
        "colab": {
          "base_uri": "https://localhost:8080/"
        },
        "id": "NqbSvMN9kciQ",
        "outputId": "41b4849b-bf51-49b3-8900-dd6bcdfdb56c"
      },
      "execution_count": null,
      "outputs": [
        {
          "output_type": "stream",
          "name": "stdout",
          "text": [
            "/content/MatchSum\n"
          ]
        }
      ]
    },
    {
      "cell_type": "code",
      "source": [
        "%env ROUGE_PATH=/content/rouge/tools/ROUGE-1.5.5"
      ],
      "metadata": {
        "colab": {
          "base_uri": "https://localhost:8080/"
        },
        "id": "OOgoKnZsCxzZ",
        "outputId": "60a85ae9-5b4e-4977-c91b-95669af17c46"
      },
      "execution_count": null,
      "outputs": [
        {
          "output_type": "stream",
          "name": "stdout",
          "text": [
            "env: ROUGE_PATH=/content/rouge/tools/ROUGE-1.5.5\n"
          ]
        }
      ]
    },
    {
      "cell_type": "markdown",
      "source": [
        "## Testing\n",
        "Tests take about 70 minutes to complete. After completion, `result` folder will appear in Google Drive with results which will be also printed in console."
      ],
      "metadata": {
        "id": "fBIi23dyLcVU"
      }
    },
    {
      "cell_type": "code",
      "source": [
        "!CUDA_VISIBLE_DEVICES=0 python train_matching.py --mode=test --encoder=bert --save_path=/content/drive/MyDrive/models --gpus=0"
      ],
      "metadata": {
        "colab": {
          "base_uri": "https://localhost:8080/"
        },
        "id": "-QBLkXiFge2E",
        "outputId": "88daabe3-88f5-4ff7-e7be-3fb7d12e4eca"
      },
      "execution_count": null,
      "outputs": [
        {
          "output_type": "stream",
          "name": "stdout",
          "text": [
            "Testing process of MatchSum !!!\n",
            "Start loading datasets !!!\n",
            "Finished in 0:00:04.157775\n",
            "Information of dataset is:\n",
            "In total 1 datasets:\n",
            "\ttest has 11489 instances.\n",
            "\n",
            "Current model is MatchSum_cnndm_bert.ckpt\n",
            "/usr/local/lib/python3.7/dist-packages/torch/serialization.py:786: SourceChangeWarning: source code of class 'model.MatchSum' has changed. you can retrieve the original source code by accessing the object's source attribute or set `torch.nn.Module.dump_patches = True` and use the patch tool to revert the changes.\n",
            "  warnings.warn(msg, SourceChangeWarning)\n",
            "/usr/local/lib/python3.7/dist-packages/torch/serialization.py:786: SourceChangeWarning: source code of class 'torch.nn.modules.sparse.Embedding' has changed. you can retrieve the original source code by accessing the object's source attribute or set `torch.nn.Module.dump_patches = True` and use the patch tool to revert the changes.\n",
            "  warnings.warn(msg, SourceChangeWarning)\n",
            "/usr/local/lib/python3.7/dist-packages/torch/serialization.py:786: SourceChangeWarning: source code of class 'torch.nn.modules.normalization.LayerNorm' has changed. you can retrieve the original source code by accessing the object's source attribute or set `torch.nn.Module.dump_patches = True` and use the patch tool to revert the changes.\n",
            "  warnings.warn(msg, SourceChangeWarning)\n",
            "/usr/local/lib/python3.7/dist-packages/torch/serialization.py:786: SourceChangeWarning: source code of class 'torch.nn.modules.dropout.Dropout' has changed. you can retrieve the original source code by accessing the object's source attribute or set `torch.nn.Module.dump_patches = True` and use the patch tool to revert the changes.\n",
            "  warnings.warn(msg, SourceChangeWarning)\n",
            "/usr/local/lib/python3.7/dist-packages/torch/serialization.py:786: SourceChangeWarning: source code of class 'torch.nn.modules.container.ModuleList' has changed. you can retrieve the original source code by accessing the object's source attribute or set `torch.nn.Module.dump_patches = True` and use the patch tool to revert the changes.\n",
            "  warnings.warn(msg, SourceChangeWarning)\n",
            "/usr/local/lib/python3.7/dist-packages/torch/serialization.py:786: SourceChangeWarning: source code of class 'torch.nn.modules.linear.Linear' has changed. you can retrieve the original source code by accessing the object's source attribute or set `torch.nn.Module.dump_patches = True` and use the patch tool to revert the changes.\n",
            "  warnings.warn(msg, SourceChangeWarning)\n",
            "/usr/local/lib/python3.7/dist-packages/torch/serialization.py:786: SourceChangeWarning: source code of class 'torch.nn.modules.activation.Tanh' has changed. you can retrieve the original source code by accessing the object's source attribute or set `torch.nn.Module.dump_patches = True` and use the patch tool to revert the changes.\n",
            "  warnings.warn(msg, SourceChangeWarning)\n",
            "Test: 100% 11489/11489 [1:01:53<00:00,  2.91it/s]\n",
            "Start writing files !!!\n",
            "Start evaluating ROUGE score !!!\n",
            "---------------------------------------------\n",
            "1 ROUGE-1 Average_R: 0.52030 (95%-conf.int. 0.51769 - 0.52309)\n",
            "1 ROUGE-1 Average_P: 0.40144 (95%-conf.int. 0.39880 - 0.40394)\n",
            "1 ROUGE-1 Average_F: 0.43960 (95%-conf.int. 0.43750 - 0.44185)\n",
            "---------------------------------------------\n",
            "1 ROUGE-2 Average_R: 0.24209 (95%-conf.int. 0.23948 - 0.24490)\n",
            "1 ROUGE-2 Average_P: 0.18796 (95%-conf.int. 0.18555 - 0.19047)\n",
            "1 ROUGE-2 Average_F: 0.20497 (95%-conf.int. 0.20260 - 0.20741)\n",
            "---------------------------------------------\n",
            "1 ROUGE-L Average_R: 0.47501 (95%-conf.int. 0.47236 - 0.47780)\n",
            "1 ROUGE-L Average_P: 0.36715 (95%-conf.int. 0.36458 - 0.36965)\n",
            "1 ROUGE-L Average_F: 0.40172 (95%-conf.int. 0.39954 - 0.40406)\n",
            "\n",
            "Evaluate data in 4101.04 seconds!\n",
            "[tester] \n",
            "MatchRougeMetric: ROUGE-1=0.4396, ROUGE-2=0.20497, ROUGE-L=0.40172\n"
          ]
        }
      ]
    }
  ]
}