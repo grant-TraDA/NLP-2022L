{
 "cells": [
  {
   "cell_type": "markdown",
   "metadata": {
    "id": "01EvaZw9691w",
    "tags": []
   },
   "source": [
    "# Imports"
   ]
  },
  {
   "cell_type": "code",
   "execution_count": 2,
   "metadata": {
    "colab": {
     "base_uri": "https://localhost:8080/"
    },
    "id": "RdSB9AZ_6911",
    "outputId": "b306809f-8544-416a-e8dd-0434c9e965e1"
   },
   "outputs": [
    {
     "name": "stderr",
     "output_type": "stream",
     "text": [
      "[nltk_data] Downloading package punkt to /home/bodo/nltk_data...\n",
      "[nltk_data]   Package punkt is already up-to-date!\n",
      "[nltk_data] Downloading package wordnet to /home/bodo/nltk_data...\n",
      "[nltk_data]   Package wordnet is already up-to-date!\n",
      "[nltk_data] Downloading package omw-1.4 to /home/bodo/nltk_data...\n",
      "[nltk_data]   Package omw-1.4 is already up-to-date!\n",
      "[nltk_data] Downloading package averaged_perceptron_tagger to\n",
      "[nltk_data]     /home/bodo/nltk_data...\n",
      "[nltk_data]   Package averaged_perceptron_tagger is already up-to-\n",
      "[nltk_data]       date!\n",
      "[nltk_data] Downloading package stopwords to /home/bodo/nltk_data...\n",
      "[nltk_data]   Package stopwords is already up-to-date!\n"
     ]
    }
   ],
   "source": [
    "# Math\n",
    "import torch\n",
    "import numpy as np\n",
    "\n",
    "# Flair Device\n",
    "import flair\n",
    "flair.device = torch.device('cpu')\n",
    "\n",
    "# Analysis\n",
    "import matplotlib.pyplot as plt\n",
    "from tqdm import tqdm, trange\n",
    "\n",
    "# Downloading Packages\n",
    "import nltk\n",
    "nltk.download('punkt')\n",
    "nltk.download('wordnet')\n",
    "nltk.download('omw-1.4')\n",
    "nltk.download('averaged_perceptron_tagger')\n",
    "nltk.download('stopwords')\n",
    "\n",
    "# Autoencoder and Dataset Preparation\n",
    "from data.imdb_preparation import IMDB_preparation\n",
    "from data.ag_news_preparation import AG_NEWS_preparation\n",
    "from autoencoders.autoencoder import Autoencoder"
   ]
  },
  {
   "cell_type": "markdown",
   "metadata": {
    "id": "5pdgpASN6916",
    "tags": []
   },
   "source": [
    "# 2. VAE"
   ]
  },
  {
   "cell_type": "markdown",
   "metadata": {
    "id": "hV4t0wGF6916",
    "tags": []
   },
   "source": [
    "## 2.1 Loading Data"
   ]
  },
  {
   "cell_type": "code",
   "execution_count": 2,
   "metadata": {
    "colab": {
     "base_uri": "https://localhost:8080/"
    },
    "id": "T2RIATFe6917",
    "outputId": "94438de2-2c11-478c-edd0-4a1e6b139860"
   },
   "outputs": [
    {
     "name": "stderr",
     "output_type": "stream",
     "text": [
      "/home/bodo/.local/lib/python3.8/site-packages/torch/utils/data/datapipes/utils/common.py:24: UserWarning: Lambda function is not supported for pickle, please use regular python function or functools.partial instead.\n",
      "  warnings.warn(\n"
     ]
    },
    {
     "name": "stdout",
     "output_type": "stream",
     "text": [
      "Preparing sentences...\n"
     ]
    },
    {
     "name": "stderr",
     "output_type": "stream",
     "text": [
      "100%|██████████████████████████████████████████████████████████████████████████████████████████████████████████████████████████████| 120000/120000 [03:19<00:00, 602.96it/s]\n"
     ]
    },
    {
     "name": "stdout",
     "output_type": "stream",
     "text": [
      "Making sentences...\n"
     ]
    },
    {
     "name": "stderr",
     "output_type": "stream",
     "text": [
      "100%|█████████████████████████████████████████████████████████████████████████████████████████████████████████████████████████████| 120000/120000 [00:50<00:00, 2395.36it/s]\n"
     ]
    },
    {
     "name": "stdout",
     "output_type": "stream",
     "text": [
      "Embedding sentences...\n"
     ]
    },
    {
     "name": "stderr",
     "output_type": "stream",
     "text": [
      "100%|█████████████████████████████████████████████████████████████████████████████████████████████████████████████████████████████| 120000/120000 [00:28<00:00, 4198.04it/s]\n"
     ]
    },
    {
     "name": "stdout",
     "output_type": "stream",
     "text": [
      "Splitting sentences...\n"
     ]
    },
    {
     "name": "stderr",
     "output_type": "stream",
     "text": [
      "100%|████████████████████████████████████████████████████████████████████████████████████████████████████████████████████████████| 120000/120000 [00:06<00:00, 19151.07it/s]"
     ]
    },
    {
     "name": "stdout",
     "output_type": "stream",
     "text": [
      "Done!\n"
     ]
    },
    {
     "name": "stderr",
     "output_type": "stream",
     "text": [
      "\n"
     ]
    }
   ],
   "source": [
    "ds = AG_NEWS_preparation()\n",
    "dl = torch.utils.data.DataLoader(ds, batch_size=32, shuffle=True)"
   ]
  },
  {
   "cell_type": "code",
   "execution_count": 3,
   "metadata": {
    "id": "zQyZKkHgP54B"
   },
   "outputs": [],
   "source": [
    "ds_train, ds_valid = torch.utils.data.random_split(ds, [len(ds) - 1000, 1000])\n",
    "dl_train = torch.utils.data.DataLoader(ds_train, batch_size=32, shuffle=True)\n",
    "dl_valid = torch.utils.data.DataLoader(ds_valid, batch_size=32, shuffle=True)"
   ]
  },
  {
   "cell_type": "markdown",
   "metadata": {
    "id": "rlEsNRnf6917",
    "tags": []
   },
   "source": [
    "## 2.2 Training loop"
   ]
  },
  {
   "cell_type": "code",
   "execution_count": 22,
   "metadata": {
    "id": "UUTglVmE6917"
   },
   "outputs": [],
   "source": [
    "m = Autoencoder(100,100,100,4,1,variational=True,max_log2len=8)\n",
    "Lsmse = []\n",
    "Lsvar = []\n",
    "Ls_train = []\n",
    "Ls_valid = []\n",
    "device = 'cuda'\n",
    "m = m.to(device)"
   ]
  },
  {
   "cell_type": "code",
   "execution_count": 29,
   "metadata": {
    "id": "E8T_fBOL6918"
   },
   "outputs": [],
   "source": [
    "opt = torch.optim.Adamax(m.parameters(), lr=0.001, weight_decay=0.0001)"
   ]
  },
  {
   "cell_type": "code",
   "execution_count": 30,
   "metadata": {
    "colab": {
     "base_uri": "https://localhost:8080/"
    },
    "id": "wkLX-_r66918",
    "outputId": "4359f9f3-3924-4dfd-ed77-cf44a4371160"
   },
   "outputs": [
    {
     "name": "stdout",
     "output_type": "stream",
     "text": [
      "Epoch: 0\n"
     ]
    },
    {
     "name": "stderr",
     "output_type": "stream",
     "text": [
      "L: 220.0059814453125 Lmse: 213.81625366210938 Lvar: 61.897216796875: 100%|██████████████████████████████████████████████████████████████| 9350/9350 [04:59<00:00, 31.21it/s]\n",
      "VL: 246.0740966796875: 100%|████████████████████████████████████████████████████████████████████████████████████████████████████████████████| 32/32 [00:00<00:00, 99.58it/s]\n"
     ]
    },
    {
     "name": "stdout",
     "output_type": "stream",
     "text": [
      "Epoch: 1\n"
     ]
    },
    {
     "name": "stderr",
     "output_type": "stream",
     "text": [
      "L: 221.55567932128906 Lmse: 215.1577911376953 Lvar: 63.97892379760742: 100%|████████████████████████████████████████████████████████████| 9350/9350 [05:46<00:00, 26.95it/s]\n",
      "VL: 223.81729125976562: 100%|███████████████████████████████████████████████████████████████████████████████████████████████████████████████| 32/32 [00:00<00:00, 76.65it/s]\n"
     ]
    },
    {
     "name": "stdout",
     "output_type": "stream",
     "text": [
      "Epoch: 2\n"
     ]
    },
    {
     "name": "stderr",
     "output_type": "stream",
     "text": [
      "L: 216.99972534179688 Lmse: 210.79855346679688 Lvar: 62.0117073059082: 100%|████████████████████████████████████████████████████████████| 9350/9350 [06:10<00:00, 25.21it/s]\n",
      "VL: 220.7137451171875: 100%|████████████████████████████████████████████████████████████████████████████████████████████████████████████████| 32/32 [00:00<00:00, 90.69it/s]\n"
     ]
    },
    {
     "name": "stdout",
     "output_type": "stream",
     "text": [
      "Epoch: 3\n"
     ]
    },
    {
     "name": "stderr",
     "output_type": "stream",
     "text": [
      "L: 211.16978454589844 Lmse: 204.65740966796875 Lvar: 65.12374877929688: 100%|███████████████████████████████████████████████████████████| 9350/9350 [05:43<00:00, 27.26it/s]\n",
      "VL: 197.15171813964844: 100%|███████████████████████████████████████████████████████████████████████████████████████████████████████████████| 32/32 [00:00<00:00, 79.98it/s]\n"
     ]
    },
    {
     "name": "stdout",
     "output_type": "stream",
     "text": [
      "Epoch: 4\n"
     ]
    },
    {
     "name": "stderr",
     "output_type": "stream",
     "text": [
      "L: 229.67266845703125 Lmse: 222.82968139648438 Lvar: 68.429931640625: 100%|█████████████████████████████████████████████████████████████| 9350/9350 [05:46<00:00, 26.98it/s]\n",
      "VL: 224.63221740722656: 100%|███████████████████████████████████████████████████████████████████████████████████████████████████████████████| 32/32 [00:00<00:00, 83.99it/s]\n"
     ]
    },
    {
     "name": "stdout",
     "output_type": "stream",
     "text": [
      "Epoch: 5\n"
     ]
    },
    {
     "name": "stderr",
     "output_type": "stream",
     "text": [
      "L: 203.6675262451172 Lmse: 196.59043884277344 Lvar: 70.7708740234375: 100%|█████████████████████████████████████████████████████████████| 9350/9350 [06:01<00:00, 25.86it/s]\n",
      "VL: 181.89967346191406: 100%|███████████████████████████████████████████████████████████████████████████████████████████████████████████████| 32/32 [00:00<00:00, 59.90it/s]\n"
     ]
    }
   ],
   "source": [
    "EPOCHS = 6\n",
    "beta = 0.1\n",
    "for e in range(EPOCHS):\n",
    "    print(f\"Epoch: {e}\")\n",
    "    pbar = tqdm(dl_train)\n",
    "    m = m.train()\n",
    "    for i, (x_in, x_out) in enumerate(pbar):\n",
    "        opt.zero_grad()\n",
    "        x_in = x_in.to(device)\n",
    "        x_out = x_out.to(device)\n",
    "        mx, (mu, logvar) = m(x_in, return_Z=True)\n",
    "        Lmse = (mx - x_out).pow(2).sum((1,2)).mean()\n",
    "        Lvar = - 0.5 * (1 + logvar - mu.pow(2) - logvar.exp()).sum((1,2)).mean()\n",
    "        L = Lmse + beta*Lvar\n",
    "        L.backward()\n",
    "        opt.step()\n",
    "    \n",
    "        pbar.set_description(f\"L: {L.item()} Lmse: {Lmse.item()} Lvar: {Lvar.item()}\")\n",
    "        \n",
    "        Lsmse.append(Lmse.item())\n",
    "        Lsvar.append(Lvar.item())\n",
    "        Ls_train.append(L.item())\n",
    "    with torch.no_grad():\n",
    "        m = m.eval()\n",
    "        pbar = tqdm(dl_valid)\n",
    "        for i, (x_in, x_out) in enumerate(pbar):\n",
    "            x_in = x_in.to(device)\n",
    "            x_out = x_out.to(device)\n",
    "            mx = m(x_in)\n",
    "            L = (mx - x_out).pow(2).sum((1,2)).mean()\n",
    "            pbar.set_description(f\"VL: {L.item()}\")\n",
    "            Ls_valid.append(L.item())"
   ]
  },
  {
   "cell_type": "code",
   "execution_count": 31,
   "metadata": {
    "colab": {
     "base_uri": "https://localhost:8080/"
    },
    "id": "wkLX-_r66918",
    "outputId": "4359f9f3-3924-4dfd-ed77-cf44a4371160"
   },
   "outputs": [],
   "source": [
    "torch.save(({'train': Ls_train, 'valid':Ls_valid, 'mse': Lsmse, 'var': Lsvar}, m.state_dict()), f'vae_small_9_AG.pt')"
   ]
  },
  {
   "cell_type": "markdown",
   "metadata": {
    "id": "YlEBl7hR6XY4"
   },
   "source": [
    "For AG_NEWS dataset, the training curves look similar to the ones described in the IMDB section. The overall loss is mostly comprised of the MSE loss. The variational loss is much lower in comparison. The overall loss is being minimised very slowly.\n",
    "\n",
    "The validation loss matches the training loss:"
   ]
  },
  {
   "cell_type": "code",
   "execution_count": 3,
   "metadata": {},
   "outputs": [],
   "source": [
    "losses, _ = torch.load('vae_small_9_AG.pt')"
   ]
  },
  {
   "cell_type": "code",
   "execution_count": 4,
   "metadata": {
    "colab": {
     "base_uri": "https://localhost:8080/",
     "height": 312
    },
    "id": "j8ZWaydy5Aaz",
    "outputId": "d5aeffb4-ac0a-4679-d448-e51d56a18d0f"
   },
   "outputs": [
    {
     "data": {
      "text/plain": [
       "<matplotlib.legend.Legend at 0x7efe09ef7fd0>"
      ]
     },
     "execution_count": 4,
     "metadata": {},
     "output_type": "execute_result"
    },
    {
     "data": {
      "image/png": "[encoded data removed]",
      "text/plain": [
       "<Figure size 432x288 with 1 Axes>"
      ]
     },
     "metadata": {
      "needs_background": "light"
     },
     "output_type": "display_data"
    }
   ],
   "source": [
    "plt.plot(losses['train'], label='training loss')\n",
    "plt.plot(losses['mse'], label='MSE loss')\n",
    "plt.plot(losses['var'], label='variational loss')\n",
    "for i in range(9):\n",
    "    plt.scatter(\n",
    "        [(i+1)*9349 for _ in range(32)],\n",
    "        losses['valid'][i*32:(i+1)*32],\n",
    "        zorder=2,\n",
    "        c='firebrick',\n",
    "        label='validation loss' if i == 0 else ''\n",
    "    )\n",
    "plt.title('Training Loss and Validation Loss')\n",
    "plt.xlabel('Iterations')\n",
    "plt.ylabel('Loss')\n",
    "plt.legend()"
   ]
  },
  {
   "cell_type": "code",
   "execution_count": null,
   "metadata": {},
   "outputs": [],
   "source": []
  }
 ],
 "metadata": {
  "accelerator": "GPU",
  "colab": {
   "name": "TrainingNLPAutoencoders-checkpoint.ipynb",
   "provenance": []
  },
  "interpreter": {
   "hash": "916dbcbb3f70747c44a77c7bcd40155683ae19c65e1c03b4aa3499c5328201f1"
  },
  "kernelspec": {
   "display_name": "Python 3 (ipykernel)",
   "language": "python",
   "name": "python3"
  },
  "language_info": {
   "codemirror_mode": {
    "name": "ipython",
    "version": 3
   },
   "file_extension": ".py",
   "mimetype": "text/x-python",
   "name": "python",
   "nbconvert_exporter": "python",
   "pygments_lexer": "ipython3",
   "version": "3.8.10"
  }
 },
 "nbformat": 4,
 "nbformat_minor": 4
}
