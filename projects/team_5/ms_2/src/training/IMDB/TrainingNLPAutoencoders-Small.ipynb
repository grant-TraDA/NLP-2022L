{
 "cells": [
  {
   "cell_type": "markdown",
   "metadata": {
    "tags": []
   },
   "source": [
    "# Imports"
   ]
  },
  {
   "cell_type": "code",
   "execution_count": 1,
   "metadata": {},
   "outputs": [
    {
     "name": "stderr",
     "output_type": "stream",
     "text": [
      "[nltk_data] Downloading package punkt to /home/bodo/nltk_data...\n",
      "[nltk_data]   Package punkt is already up-to-date!\n",
      "[nltk_data] Downloading package wordnet to /home/bodo/nltk_data...\n",
      "[nltk_data]   Package wordnet is already up-to-date!\n",
      "[nltk_data] Downloading package omw-1.4 to /home/bodo/nltk_data...\n",
      "[nltk_data]   Package omw-1.4 is already up-to-date!\n",
      "[nltk_data] Downloading package averaged_perceptron_tagger to\n",
      "[nltk_data]     /home/bodo/nltk_data...\n",
      "[nltk_data]   Package averaged_perceptron_tagger is already up-to-\n",
      "[nltk_data]       date!\n",
      "[nltk_data] Downloading package stopwords to /home/bodo/nltk_data...\n",
      "[nltk_data]   Package stopwords is already up-to-date!\n"
     ]
    },
    {
     "data": {
      "text/plain": [
       "True"
      ]
     },
     "execution_count": 1,
     "metadata": {},
     "output_type": "execute_result"
    }
   ],
   "source": [
    "# Math\n",
    "import torch\n",
    "import numpy as np\n",
    "\n",
    "# Flair Device\n",
    "import flair\n",
    "flair.device = torch.device('cpu')\n",
    "\n",
    "# Analysis\n",
    "import matplotlib.pyplot as plt\n",
    "from tqdm import tqdm, trange\n",
    "\n",
    "# Autoencoder and Dataset Preparation\n",
    "from data.imdb_preparation import IMDB_preparation\n",
    "from data.ag_news_preparation import AG_NEWS_preparation\n",
    "from autoencoders.autoencoder import Autoencoder\n",
    "\n",
    "# Downloading Packages\n",
    "import nltk\n",
    "nltk.download('punkt')\n",
    "nltk.download('wordnet')\n",
    "nltk.download('omw-1.4')\n",
    "nltk.download('averaged_perceptron_tagger')\n",
    "nltk.download('stopwords')"
   ]
  },
  {
   "cell_type": "markdown",
   "metadata": {
    "tags": []
   },
   "source": [
    "# 1. Vanilla Autoencoder"
   ]
  },
  {
   "cell_type": "markdown",
   "metadata": {
    "tags": []
   },
   "source": [
    "## 1.1 Loading Data"
   ]
  },
  {
   "cell_type": "code",
   "execution_count": 2,
   "metadata": {},
   "outputs": [
    {
     "name": "stderr",
     "output_type": "stream",
     "text": [
      "/home/bodo/.local/lib/python3.8/site-packages/torch/utils/data/datapipes/utils/common.py:24: UserWarning: Lambda function is not supported for pickle, please use regular python function or functools.partial instead.\n",
      "  warnings.warn(\n",
      "/home/bodo/.local/lib/python3.8/site-packages/torch/utils/data/datapipes/iter/selecting.py:54: UserWarning: Lambda function is not supported for pickle, please use regular python function or functools.partial instead.\n",
      "  warnings.warn(\"Lambda function is not supported for pickle, please use \"\n"
     ]
    },
    {
     "name": "stdout",
     "output_type": "stream",
     "text": [
      "Preparing sentences...\n"
     ]
    },
    {
     "name": "stderr",
     "output_type": "stream",
     "text": [
      "100%|████████████████████████████████████████████████████████████████████████████████████████████████████████████████████████████████| 25000/25000 [04:09<00:00, 100.21it/s]\n"
     ]
    },
    {
     "name": "stdout",
     "output_type": "stream",
     "text": [
      "Making sentences...\n"
     ]
    },
    {
     "name": "stderr",
     "output_type": "stream",
     "text": [
      "100%|████████████████████████████████████████████████████████████████████████████████████████████████████████████████████████████████| 25000/25000 [01:14<00:00, 337.52it/s]\n"
     ]
    },
    {
     "name": "stdout",
     "output_type": "stream",
     "text": [
      "Embedding sentences...\n"
     ]
    },
    {
     "name": "stderr",
     "output_type": "stream",
     "text": [
      "100%|████████████████████████████████████████████████████████████████████████████████████████████████████████████████████████████████| 25000/25000 [00:34<00:00, 716.78it/s]\n"
     ]
    },
    {
     "name": "stdout",
     "output_type": "stream",
     "text": [
      "Splitting sentences...\n"
     ]
    },
    {
     "name": "stderr",
     "output_type": "stream",
     "text": [
      "100%|███████████████████████████████████████████████████████████████████████████████████████████████████████████████████████████████| 25000/25000 [00:02<00:00, 9510.33it/s]"
     ]
    },
    {
     "name": "stdout",
     "output_type": "stream",
     "text": [
      "Done!\n"
     ]
    },
    {
     "name": "stderr",
     "output_type": "stream",
     "text": [
      "\n"
     ]
    }
   ],
   "source": [
    "ds = IMDB_preparation()"
   ]
  },
  {
   "cell_type": "code",
   "execution_count": 3,
   "metadata": {},
   "outputs": [],
   "source": [
    "ds_train, ds_valid = torch.utils.data.random_split(ds, [len(ds) - 1000, 1000])"
   ]
  },
  {
   "cell_type": "code",
   "execution_count": 4,
   "metadata": {},
   "outputs": [],
   "source": [
    "dl_train = torch.utils.data.DataLoader(ds_train, batch_size=32, shuffle=True)\n",
    "dl_valid = torch.utils.data.DataLoader(ds_valid, batch_size=32, shuffle=True)"
   ]
  },
  {
   "cell_type": "markdown",
   "metadata": {
    "tags": []
   },
   "source": [
    "## 1.2 Training loop"
   ]
  },
  {
   "cell_type": "code",
   "execution_count": 5,
   "metadata": {},
   "outputs": [],
   "source": [
    "m = Autoencoder(100,100,100,4,1,variational=False, max_log2len=8)\n",
    "Ls_train = []\n",
    "Ls_valid = []\n",
    "device = 'cuda'\n",
    "m = m.to(device)"
   ]
  },
  {
   "cell_type": "code",
   "execution_count": 6,
   "metadata": {},
   "outputs": [],
   "source": [
    "opt = torch.optim.Adamax(m.parameters(), lr=0.001, weight_decay=0.0001)"
   ]
  },
  {
   "cell_type": "code",
   "execution_count": 7,
   "metadata": {},
   "outputs": [
    {
     "name": "stdout",
     "output_type": "stream",
     "text": [
      "Epoch: 0\n"
     ]
    },
    {
     "name": "stderr",
     "output_type": "stream",
     "text": [
      "L: 210.4093017578125: 100%|█████████████████████████████████████████████████████████████████████████████████████████████████████████████| 8221/8221 [03:50<00:00, 35.63it/s]\n",
      "VL: 200.3910369873047: 100%|███████████████████████████████████████████████████████████████████████████████████████████████████████████████| 32/32 [00:00<00:00, 108.06it/s]\n"
     ]
    },
    {
     "name": "stdout",
     "output_type": "stream",
     "text": [
      "Epoch: 1\n"
     ]
    },
    {
     "name": "stderr",
     "output_type": "stream",
     "text": [
      "L: 181.73403930664062: 100%|████████████████████████████████████████████████████████████████████████████████████████████████████████████| 8221/8221 [03:56<00:00, 34.71it/s]\n",
      "VL: 186.03125: 100%|███████████████████████████████████████████████████████████████████████████████████████████████████████████████████████| 32/32 [00:00<00:00, 102.98it/s]\n"
     ]
    },
    {
     "name": "stdout",
     "output_type": "stream",
     "text": [
      "Epoch: 2\n"
     ]
    },
    {
     "name": "stderr",
     "output_type": "stream",
     "text": [
      "L: 178.8451690673828: 100%|█████████████████████████████████████████████████████████████████████████████████████████████████████████████| 8221/8221 [03:58<00:00, 34.50it/s]\n",
      "VL: 168.48544311523438: 100%|███████████████████████████████████████████████████████████████████████████████████████████████████████████████| 32/32 [00:00<00:00, 95.23it/s]\n"
     ]
    },
    {
     "name": "stdout",
     "output_type": "stream",
     "text": [
      "Epoch: 3\n"
     ]
    },
    {
     "name": "stderr",
     "output_type": "stream",
     "text": [
      "L: 169.69798278808594: 100%|████████████████████████████████████████████████████████████████████████████████████████████████████████████| 8221/8221 [04:34<00:00, 30.00it/s]\n",
      "VL: 155.50927734375: 100%|██████████████████████████████████████████████████████████████████████████████████████████████████████████████████| 32/32 [00:00<00:00, 79.36it/s]\n"
     ]
    },
    {
     "name": "stdout",
     "output_type": "stream",
     "text": [
      "Epoch: 4\n"
     ]
    },
    {
     "name": "stderr",
     "output_type": "stream",
     "text": [
      "L: 166.8355712890625: 100%|█████████████████████████████████████████████████████████████████████████████████████████████████████████████| 8221/8221 [05:47<00:00, 23.65it/s]\n",
      "VL: 147.8302001953125: 100%|████████████████████████████████████████████████████████████████████████████████████████████████████████████████| 32/32 [00:00<00:00, 85.60it/s]\n"
     ]
    },
    {
     "name": "stdout",
     "output_type": "stream",
     "text": [
      "Epoch: 5\n"
     ]
    },
    {
     "name": "stderr",
     "output_type": "stream",
     "text": [
      "L: 170.46873474121094: 100%|████████████████████████████████████████████████████████████████████████████████████████████████████████████| 8221/8221 [04:49<00:00, 28.36it/s]\n",
      "VL: 164.60699462890625: 100%|███████████████████████████████████████████████████████████████████████████████████████████████████████████████| 32/32 [00:00<00:00, 97.40it/s]\n"
     ]
    }
   ],
   "source": [
    "m = m.train()\n",
    "EPOCHS = 6\n",
    "for e in range(EPOCHS):\n",
    "    print(f\"Epoch: {e}\")\n",
    "    m = m.train()\n",
    "    pbar = tqdm(dl_train)\n",
    "    for i, (x_in, x_out) in enumerate(pbar):\n",
    "        opt.zero_grad()\n",
    "        x_in = x_in.to(device)\n",
    "        x_out = x_out.to(device)\n",
    "        mx = m(x_in)\n",
    "        L = (mx - x_out).pow(2).sum((1,2)).mean()\n",
    "        L.backward()\n",
    "        opt.step()\n",
    "    \n",
    "        pbar.set_description(f\"L: {L.item()}\")\n",
    "        Ls_train.append(L.item())\n",
    "    \n",
    "    with torch.no_grad():\n",
    "        m = m.eval()\n",
    "        pbar = tqdm(dl_valid)\n",
    "        for i, (x_in, x_out) in enumerate(pbar):\n",
    "            x_in = x_in.to(device)\n",
    "            x_out = x_out.to(device)\n",
    "            mx = m(x_in)\n",
    "            L = (mx - x_out).pow(2).sum((1,2)).mean()\n",
    "            pbar.set_description(f\"VL: {L.item()}\")\n",
    "            Ls_valid.append(L.item())\n",
    "            "
   ]
  },
  {
   "cell_type": "code",
   "execution_count": 8,
   "metadata": {},
   "outputs": [],
   "source": [
    "torch.save(({'train': Ls_train, 'valid':Ls_valid}, m.state_dict()), 'vanilla_small_6_IMDB.pt')"
   ]
  },
  {
   "cell_type": "code",
   "execution_count": 9,
   "metadata": {},
   "outputs": [],
   "source": [
    "losses, _ = torch.load('vanilla_small_6_IMDB.pt')"
   ]
  },
  {
   "cell_type": "code",
   "execution_count": 10,
   "metadata": {},
   "outputs": [
    {
     "data": {
      "text/plain": [
       "<matplotlib.legend.Legend at 0x7f8b740952b0>"
      ]
     },
     "execution_count": 10,
     "metadata": {},
     "output_type": "execute_result"
    },
    {
     "data": {
      "image/png": "[encoded data removed]",
      "text/plain": [
       "<Figure size 432x288 with 1 Axes>"
      ]
     },
     "metadata": {
      "needs_background": "light"
     },
     "output_type": "display_data"
    }
   ],
   "source": [
    "plt.plot(losses['train'], label='training loss')\n",
    "for i in range(6):\n",
    "    plt.scatter(\n",
    "        [(i+1)*263066//32 for _ in range(32)],\n",
    "        losses['valid'][i*32:(i+1)*32],\n",
    "        zorder=2,\n",
    "        c='firebrick',\n",
    "        label='validation loss' if i == 0 else ''\n",
    "    )\n",
    "plt.title('Training Loss and Validation Loss')\n",
    "plt.xlabel('Iterations')\n",
    "plt.ylabel('Loss')\n",
    "plt.legend()"
   ]
  },
  {
   "cell_type": "markdown",
   "metadata": {},
   "source": [
    "The plot above is a comparison of training and validation losses during training. The model has been trained for 6 epochs. After each epoch, a validation loss was calculated (for 32 batches in the validation dataset). The blue line is validation loss per iteration. The red dots are losses for all batches in the validation dataset.\n",
    "\n",
    "As we can see above, the validation loss closely matches the training loss in terms of mean and deviation. This is expected, as the autoencoder's representation of the sentence is small, the autoencoder itself is small and the dataset is big enough.\n",
    "\n",
    "The loss does not reduce much during training. Since we do not aim to accuratelly recreate the sentences, but to capture high level features of them, this is expected. The loss keeps decreasing at a very low rate. "
   ]
  },
  {
   "cell_type": "markdown",
   "metadata": {
    "tags": []
   },
   "source": [
    "# 2. VAE"
   ]
  },
  {
   "cell_type": "markdown",
   "metadata": {
    "tags": []
   },
   "source": [
    "## 2.1 Loading Data"
   ]
  },
  {
   "cell_type": "code",
   "execution_count": 12,
   "metadata": {},
   "outputs": [
    {
     "name": "stderr",
     "output_type": "stream",
     "text": [
      "/home/bodo/.local/lib/python3.8/site-packages/torch/utils/data/datapipes/utils/common.py:24: UserWarning: Lambda function is not supported for pickle, please use regular python function or functools.partial instead.\n",
      "  warnings.warn(\n",
      "/home/bodo/.local/lib/python3.8/site-packages/torch/utils/data/datapipes/iter/selecting.py:54: UserWarning: Lambda function is not supported for pickle, please use regular python function or functools.partial instead.\n",
      "  warnings.warn(\"Lambda function is not supported for pickle, please use \"\n"
     ]
    },
    {
     "name": "stdout",
     "output_type": "stream",
     "text": [
      "Preparing sentences...\n"
     ]
    },
    {
     "name": "stderr",
     "output_type": "stream",
     "text": [
      "100%|████████████████████████████████████████████████████████████████████████████████████████████████████████████████████████████████| 25000/25000 [04:02<00:00, 103.30it/s]\n"
     ]
    },
    {
     "name": "stdout",
     "output_type": "stream",
     "text": [
      "Making sentences...\n"
     ]
    },
    {
     "name": "stderr",
     "output_type": "stream",
     "text": [
      "100%|█████████████████████████████████████████████████████████████████████████████████████████████████████████████████████████████████| 25000/25000 [29:16<00:00, 14.23it/s]\n"
     ]
    },
    {
     "name": "stdout",
     "output_type": "stream",
     "text": [
      "Embedding sentences...\n"
     ]
    },
    {
     "name": "stderr",
     "output_type": "stream",
     "text": [
      "100%|████████████████████████████████████████████████████████████████████████████████████████████████████████████████████████████████| 25000/25000 [00:43<00:00, 578.33it/s]\n"
     ]
    },
    {
     "name": "stdout",
     "output_type": "stream",
     "text": [
      "Splitting sentences...\n"
     ]
    },
    {
     "name": "stderr",
     "output_type": "stream",
     "text": [
      "100%|███████████████████████████████████████████████████████████████████████████████████████████████████████████████████████████████| 25000/25000 [00:04<00:00, 6181.40it/s]"
     ]
    },
    {
     "name": "stdout",
     "output_type": "stream",
     "text": [
      "Done!\n"
     ]
    },
    {
     "name": "stderr",
     "output_type": "stream",
     "text": [
      "\n"
     ]
    }
   ],
   "source": [
    "ds = IMDB_preparation()"
   ]
  },
  {
   "cell_type": "code",
   "execution_count": 13,
   "metadata": {},
   "outputs": [],
   "source": [
    "ds_train, ds_valid = torch.utils.data.random_split(ds, [len(ds) - 1000, 1000])"
   ]
  },
  {
   "cell_type": "code",
   "execution_count": 14,
   "metadata": {},
   "outputs": [],
   "source": [
    "dl_train = torch.utils.data.DataLoader(ds_train, batch_size=32, shuffle=True)\n",
    "dl_valid = torch.utils.data.DataLoader(ds_valid, batch_size=32, shuffle=True)"
   ]
  },
  {
   "cell_type": "markdown",
   "metadata": {
    "tags": []
   },
   "source": [
    "## 2.2 Training loop"
   ]
  },
  {
   "cell_type": "code",
   "execution_count": 11,
   "metadata": {},
   "outputs": [],
   "source": [
    "m = Autoencoder(100,100,100,4,1,variational=True,max_log2len=8)\n",
    "Ls = []\n",
    "Lsmse = []\n",
    "Lsvar = []\n",
    "Ls_train = []\n",
    "Ls_valid = []\n",
    "device = 'cuda'\n",
    "m = m.to(device)"
   ]
  },
  {
   "cell_type": "code",
   "execution_count": 12,
   "metadata": {},
   "outputs": [],
   "source": [
    "Ls = []\n",
    "Lsmse = []\n",
    "Lsvar = []\n",
    "Ls_train = []\n",
    "Ls_valid = []"
   ]
  },
  {
   "cell_type": "code",
   "execution_count": 13,
   "metadata": {},
   "outputs": [],
   "source": [
    "opt = torch.optim.Adamax(m.parameters(), lr=0.001, weight_decay=0.0001)"
   ]
  },
  {
   "cell_type": "code",
   "execution_count": 14,
   "metadata": {},
   "outputs": [
    {
     "name": "stdout",
     "output_type": "stream",
     "text": [
      "Epoch: 5\n"
     ]
    },
    {
     "name": "stderr",
     "output_type": "stream",
     "text": [
      "L: 259.2572937011719 Lmse: 256.5831298828125 Lvar: 26.741491317749023: 100%|████████████████████████████████████████████████████████████| 8221/8221 [04:45<00:00, 28.84it/s]\n",
      "VL: 290.99517822265625: 100%|███████████████████████████████████████████████████████████████████████████████████████████████████████████████| 32/32 [00:00<00:00, 98.04it/s]\n"
     ]
    },
    {
     "name": "stdout",
     "output_type": "stream",
     "text": [
      "Epoch: 6\n"
     ]
    },
    {
     "name": "stderr",
     "output_type": "stream",
     "text": [
      "L: 261.2218933105469 Lmse: 256.3658447265625 Lvar: 48.56063461303711: 100%|█████████████████████████████████████████████████████████████| 8221/8221 [04:42<00:00, 29.07it/s]\n",
      "VL: 253.50645446777344: 100%|███████████████████████████████████████████████████████████████████████████████████████████████████████████████| 32/32 [00:00<00:00, 89.52it/s]\n"
     ]
    },
    {
     "name": "stdout",
     "output_type": "stream",
     "text": [
      "Epoch: 7\n"
     ]
    },
    {
     "name": "stderr",
     "output_type": "stream",
     "text": [
      "L: 218.96182250976562 Lmse: 213.06190490722656 Lvar: 58.999202728271484: 100%|██████████████████████████████████████████████████████████| 8221/8221 [04:56<00:00, 27.69it/s]\n",
      "VL: 213.58526611328125: 100%|███████████████████████████████████████████████████████████████████████████████████████████████████████████████| 32/32 [00:00<00:00, 68.22it/s]\n"
     ]
    },
    {
     "name": "stdout",
     "output_type": "stream",
     "text": [
      "Epoch: 8\n"
     ]
    },
    {
     "name": "stderr",
     "output_type": "stream",
     "text": [
      "L: 217.253173828125 Lmse: 210.64358520507812 Lvar: 66.09590911865234: 100%|█████████████████████████████████████████████████████████████| 8221/8221 [05:04<00:00, 26.99it/s]\n",
      "VL: 223.31179809570312: 100%|███████████████████████████████████████████████████████████████████████████████████████████████████████████████| 32/32 [00:00<00:00, 82.46it/s]\n"
     ]
    },
    {
     "name": "stdout",
     "output_type": "stream",
     "text": [
      "Epoch: 9\n"
     ]
    },
    {
     "name": "stderr",
     "output_type": "stream",
     "text": [
      "L: 215.11268615722656 Lmse: 208.10191345214844 Lvar: 70.10774230957031: 100%|███████████████████████████████████████████████████████████| 8221/8221 [05:08<00:00, 26.61it/s]\n",
      "VL: 207.70175170898438: 100%|███████████████████████████████████████████████████████████████████████████████████████████████████████████████| 32/32 [00:00<00:00, 84.47it/s]\n"
     ]
    },
    {
     "name": "stdout",
     "output_type": "stream",
     "text": [
      "Epoch: 10\n"
     ]
    },
    {
     "name": "stderr",
     "output_type": "stream",
     "text": [
      "L: 200.85028076171875 Lmse: 193.42259216308594 Lvar: 74.27691650390625: 100%|███████████████████████████████████████████████████████████| 8221/8221 [05:07<00:00, 26.75it/s]\n",
      "VL: 199.0511016845703: 100%|████████████████████████████████████████████████████████████████████████████████████████████████████████████████| 32/32 [00:00<00:00, 86.78it/s]\n"
     ]
    }
   ],
   "source": [
    "EPOCHS = 6\n",
    "beta = 0.1\n",
    "offset = 5\n",
    "for e in range(EPOCHS):\n",
    "    e += offset\n",
    "    print(f\"Epoch: {e}\")\n",
    "    pbar = tqdm(dl_train)\n",
    "    m = m.train()\n",
    "    for i, (x_in, x_out) in enumerate(pbar):\n",
    "        opt.zero_grad()\n",
    "        x_in = x_in.to(device)\n",
    "        x_out = x_out.to(device)\n",
    "        mx, (mu, logvar) = m(x_in, return_Z=True)\n",
    "        Lmse = (mx - x_out).pow(2).sum((1,2)).mean()\n",
    "        Lvar = - 0.5 * (1 + logvar - mu.pow(2) - logvar.exp()).sum((1,2)).mean()\n",
    "        L = Lmse + beta*Lvar\n",
    "        L.backward()\n",
    "        opt.step()\n",
    "    \n",
    "        pbar.set_description(f\"L: {L.item()} Lmse: {Lmse.item()} Lvar: {Lvar.item()}\")\n",
    "        \n",
    "        Lsmse.append(Lmse.item())\n",
    "        Lsvar.append(Lvar.item())\n",
    "        Ls_train.append(L.item())\n",
    "    with torch.no_grad():\n",
    "        m = m.eval()\n",
    "        pbar = tqdm(dl_valid)\n",
    "        for i, (x_in, x_out) in enumerate(pbar):\n",
    "            x_in = x_in.to(device)\n",
    "            x_out = x_out.to(device)\n",
    "            mx = m(x_in)\n",
    "            L = (mx - x_out).pow(2).sum((1,2)).mean()\n",
    "            pbar.set_description(f\"VL: {L.item()}\")\n",
    "            Ls_valid.append(L.item())\n"
   ]
  },
  {
   "cell_type": "code",
   "execution_count": 15,
   "metadata": {},
   "outputs": [],
   "source": [
    "torch.save(({'train': Ls_train, 'valid':Ls_valid, 'mse': Lsmse, 'var': Lsvar}, m.state_dict()), 'vae_small_6_IMDB.pt')"
   ]
  },
  {
   "cell_type": "code",
   "execution_count": 16,
   "metadata": {},
   "outputs": [],
   "source": [
    "losses, _ = torch.load('vae_small_6_IMDB.pt')"
   ]
  },
  {
   "cell_type": "code",
   "execution_count": 17,
   "metadata": {},
   "outputs": [
    {
     "data": {
      "text/plain": [
       "<matplotlib.legend.Legend at 0x7f8b742a1d00>"
      ]
     },
     "execution_count": 17,
     "metadata": {},
     "output_type": "execute_result"
    },
    {
     "data": {
      "image/png": "[encoded data removed]",
      "text/plain": [
       "<Figure size 432x288 with 1 Axes>"
      ]
     },
     "metadata": {
      "needs_background": "light"
     },
     "output_type": "display_data"
    }
   ],
   "source": [
    "plt.plot(losses['train'], label='training loss')\n",
    "plt.plot(losses['mse'], label='MSE loss')\n",
    "plt.plot(losses['var'], label='variational loss')\n",
    "for i in range(6):\n",
    "    plt.scatter(\n",
    "        [(i+1)*263066//32 for _ in range(32)],\n",
    "        losses['valid'][i*32:(i+1)*32],\n",
    "        zorder=2,\n",
    "        c='firebrick',\n",
    "        label='validation loss' if i == 0 else ''\n",
    "    )\n",
    "plt.title('Training Loss and Validation Loss')\n",
    "plt.xlabel('Iterations')\n",
    "plt.ylabel('Loss')\n",
    "plt.legend()"
   ]
  },
  {
   "cell_type": "markdown",
   "metadata": {},
   "source": [
    "The above plot shows the training loss of the variational autoencoder (logarithm). The blue line corresponds to overall loss, the orange one to MSE and the green to variational loss. Overall loss is a sum of the two other losses.\n",
    "\n",
    "As we can see, the loss is higher than for vanilla autoencoder. The loss falls at a similar rate. Most of the overall loss corresponds to the MSE, as expected. The variational loss quickly falls at the beginning, but rises as the MSE lowers slightly.\n",
    "\n",
    "The parameters has been tuned in such a way, that the inner representation is regularized enough, for it to be close to the selected distribution for the latent variable. For smaller $\\beta$ parameter, the autoencoder would be only something between the true VAE and vanilla autoencoder, while we want to compare results with the variational autoencoder, as it is trained usually. As we will see, this actually does not decrese final performance for few-shot learning."
   ]
  },
  {
   "cell_type": "markdown",
   "metadata": {},
   "source": [
    "The validation loss was again close to the training loss."
   ]
  },
  {
   "cell_type": "markdown",
   "metadata": {
    "tags": []
   },
   "source": [
    "# 3. Denoising Autoencoder"
   ]
  },
  {
   "cell_type": "markdown",
   "metadata": {
    "tags": []
   },
   "source": [
    "## 3.1 Loading Data"
   ]
  },
  {
   "cell_type": "code",
   "execution_count": 18,
   "metadata": {},
   "outputs": [
    {
     "name": "stdout",
     "output_type": "stream",
     "text": [
      "Preparing sentences...\n"
     ]
    },
    {
     "name": "stderr",
     "output_type": "stream",
     "text": [
      "100%|█████████████████████████████████████████████████████████████████████████████████████████████████████████████████████████████████| 25000/25000 [04:41<00:00, 88.89it/s]\n"
     ]
    },
    {
     "name": "stdout",
     "output_type": "stream",
     "text": [
      "Making sentences...\n"
     ]
    },
    {
     "name": "stderr",
     "output_type": "stream",
     "text": [
      "100%|████████████████████████████████████████████████████████████████████████████████████████████████████████████████████████████████| 25000/25000 [01:45<00:00, 236.41it/s]\n"
     ]
    },
    {
     "name": "stdout",
     "output_type": "stream",
     "text": [
      "Embedding sentences...\n"
     ]
    },
    {
     "name": "stderr",
     "output_type": "stream",
     "text": [
      "100%|████████████████████████████████████████████████████████████████████████████████████████████████████████████████████████████████| 25000/25000 [01:26<00:00, 290.10it/s]\n"
     ]
    },
    {
     "name": "stdout",
     "output_type": "stream",
     "text": [
      "Splitting sentences...\n"
     ]
    },
    {
     "name": "stderr",
     "output_type": "stream",
     "text": [
      "100%|███████████████████████████████████████████████████████████████████████████████████████████████████████████████████████████████| 25000/25000 [00:05<00:00, 4388.46it/s]"
     ]
    },
    {
     "name": "stdout",
     "output_type": "stream",
     "text": [
      "Done!\n"
     ]
    },
    {
     "name": "stderr",
     "output_type": "stream",
     "text": [
      "\n"
     ]
    }
   ],
   "source": [
    "ds = IMDB_preparation(aug_params={})"
   ]
  },
  {
   "cell_type": "code",
   "execution_count": 19,
   "metadata": {},
   "outputs": [],
   "source": [
    "ds_train, ds_valid = torch.utils.data.random_split(ds, [len(ds) - 1000, 1000])"
   ]
  },
  {
   "cell_type": "code",
   "execution_count": 20,
   "metadata": {},
   "outputs": [],
   "source": [
    "dl_train = torch.utils.data.DataLoader(ds_train, batch_size=32, shuffle=True, drop_last=True)\n",
    "dl_valid = torch.utils.data.DataLoader(ds_valid, batch_size=32, shuffle=True, drop_last=True)"
   ]
  },
  {
   "cell_type": "markdown",
   "metadata": {
    "tags": []
   },
   "source": [
    "## 3.2 Training loop"
   ]
  },
  {
   "cell_type": "code",
   "execution_count": 21,
   "metadata": {},
   "outputs": [],
   "source": [
    "m = Autoencoder(100,100,100,4,1,variational=False, max_log2len=8)\n",
    "Ls_train = []\n",
    "Ls_valid = []\n",
    "device = 'cuda'\n",
    "m = m.to(device)"
   ]
  },
  {
   "cell_type": "code",
   "execution_count": 22,
   "metadata": {},
   "outputs": [],
   "source": [
    "opt = torch.optim.Adamax(m.parameters(), lr=0.001, weight_decay=0.0001)"
   ]
  },
  {
   "cell_type": "code",
   "execution_count": 23,
   "metadata": {},
   "outputs": [
    {
     "name": "stdout",
     "output_type": "stream",
     "text": [
      "Epoch: 0\n"
     ]
    },
    {
     "name": "stderr",
     "output_type": "stream",
     "text": [
      "L: 250.59942626953125: 100%|████████████████████████████████████████████████████████████████████████████████████████████████████████████| 8220/8220 [08:53<00:00, 15.40it/s]\n",
      "VL: 256.44866943359375: 100%|███████████████████████████████████████████████████████████████████████████████████████████████████████████████| 31/31 [00:01<00:00, 23.38it/s]\n"
     ]
    },
    {
     "name": "stdout",
     "output_type": "stream",
     "text": [
      "Epoch: 1\n"
     ]
    },
    {
     "name": "stderr",
     "output_type": "stream",
     "text": [
      "L: 245.79249572753906: 100%|████████████████████████████████████████████████████████████████████████████████████████████████████████████| 8220/8220 [09:13<00:00, 14.85it/s]\n",
      "VL: 237.07540893554688: 100%|███████████████████████████████████████████████████████████████████████████████████████████████████████████████| 31/31 [00:01<00:00, 25.23it/s]\n"
     ]
    },
    {
     "name": "stdout",
     "output_type": "stream",
     "text": [
      "Epoch: 2\n"
     ]
    },
    {
     "name": "stderr",
     "output_type": "stream",
     "text": [
      "L: 234.6253662109375: 100%|█████████████████████████████████████████████████████████████████████████████████████████████████████████████| 8220/8220 [08:11<00:00, 16.71it/s]\n",
      "VL: 233.5945281982422: 100%|████████████████████████████████████████████████████████████████████████████████████████████████████████████████| 31/31 [00:01<00:00, 23.13it/s]\n"
     ]
    },
    {
     "name": "stdout",
     "output_type": "stream",
     "text": [
      "Epoch: 3\n"
     ]
    },
    {
     "name": "stderr",
     "output_type": "stream",
     "text": [
      "L: 219.4222412109375: 100%|█████████████████████████████████████████████████████████████████████████████████████████████████████████████| 8220/8220 [08:46<00:00, 15.61it/s]\n",
      "VL: 234.210693359375: 100%|█████████████████████████████████████████████████████████████████████████████████████████████████████████████████| 31/31 [00:01<00:00, 22.60it/s]\n"
     ]
    },
    {
     "name": "stdout",
     "output_type": "stream",
     "text": [
      "Epoch: 4\n"
     ]
    },
    {
     "name": "stderr",
     "output_type": "stream",
     "text": [
      "L: 227.1940460205078: 100%|█████████████████████████████████████████████████████████████████████████████████████████████████████████████| 8220/8220 [08:32<00:00, 16.05it/s]\n",
      "VL: 212.21546936035156: 100%|███████████████████████████████████████████████████████████████████████████████████████████████████████████████| 31/31 [00:01<00:00, 23.66it/s]\n"
     ]
    },
    {
     "name": "stdout",
     "output_type": "stream",
     "text": [
      "Epoch: 5\n"
     ]
    },
    {
     "name": "stderr",
     "output_type": "stream",
     "text": [
      "L: 220.26724243164062: 100%|████████████████████████████████████████████████████████████████████████████████████████████████████████████| 8220/8220 [08:37<00:00, 15.89it/s]\n",
      "VL: 229.1317138671875: 100%|████████████████████████████████████████████████████████████████████████████████████████████████████████████████| 31/31 [00:01<00:00, 23.22it/s]\n"
     ]
    }
   ],
   "source": [
    "m = m.train()\n",
    "EPOCHS = 6\n",
    "for e in range(EPOCHS):\n",
    "    print(f\"Epoch: {e}\")\n",
    "    m = m.train()\n",
    "    pbar = tqdm(dl_train)\n",
    "    for i, (x_in, x_out) in enumerate(pbar):\n",
    "        opt.zero_grad()\n",
    "        x_in = x_in.to(device)\n",
    "        x_out = x_out.to(device)\n",
    "        mx = m(x_in)\n",
    "        L = (mx - x_out).pow(2).sum((1,2)).mean()\n",
    "        L.backward()\n",
    "        opt.step()\n",
    "    \n",
    "        pbar.set_description(f\"L: {L.item()}\")\n",
    "        Ls_train.append(L.item())\n",
    "    \n",
    "    with torch.no_grad():\n",
    "        m = m.eval()\n",
    "        pbar = tqdm(dl_valid)\n",
    "        for i, (x_in, x_out) in enumerate(pbar):\n",
    "            x_in = x_in.to(device)\n",
    "            x_out = x_out.to(device)\n",
    "            mx = m(x_in)\n",
    "            L = (mx - x_out).pow(2).sum((1,2)).mean()\n",
    "            pbar.set_description(f\"VL: {L.item()}\")\n",
    "            Ls_valid.append(L.item())"
   ]
  },
  {
   "cell_type": "code",
   "execution_count": 24,
   "metadata": {},
   "outputs": [],
   "source": [
    "torch.save(({'train': Ls_train, 'valid':Ls_valid}, m.state_dict()), 'dae_small_6_IMDB.pt')"
   ]
  },
  {
   "cell_type": "code",
   "execution_count": 26,
   "metadata": {},
   "outputs": [],
   "source": [
    "losses, _ = torch.load('dae_small_6_IMDB.pt')"
   ]
  },
  {
   "cell_type": "code",
   "execution_count": 27,
   "metadata": {},
   "outputs": [
    {
     "data": {
      "text/plain": [
       "<matplotlib.legend.Legend at 0x7f8b6f314e80>"
      ]
     },
     "execution_count": 27,
     "metadata": {},
     "output_type": "execute_result"
    },
    {
     "data": {
      "image/png": "[encoded data removed]",
      "text/plain": [
       "<Figure size 432x288 with 1 Axes>"
      ]
     },
     "metadata": {
      "needs_background": "light"
     },
     "output_type": "display_data"
    }
   ],
   "source": [
    "plt.plot(losses['train'], label='training loss')\n",
    "for i in range(6):\n",
    "    plt.scatter(\n",
    "        [(i+1)*263066//32 for _ in range(31)],\n",
    "        losses['valid'][i*31:(i+1)*31],\n",
    "        zorder=2,\n",
    "        c='firebrick',\n",
    "        label='validation loss' if i == 0 else ''\n",
    "    )\n",
    "plt.title('Training Loss and Validation Loss')\n",
    "plt.xlabel('Iterations')\n",
    "plt.ylabel('Loss')\n",
    "plt.legend()"
   ]
  },
  {
   "cell_type": "markdown",
   "metadata": {},
   "source": [
    "As we can see, the training loss and the validation loss look similar to the vanilla autoencoder, however it is higher. This is expected, as the denoising taks makes the prediction much more difficult."
   ]
  }
 ],
 "metadata": {
  "interpreter": {
   "hash": "916dbcbb3f70747c44a77c7bcd40155683ae19c65e1c03b4aa3499c5328201f1"
  },
  "kernelspec": {
   "display_name": "Python 3 (ipykernel)",
   "language": "python",
   "name": "python3"
  },
  "language_info": {
   "codemirror_mode": {
    "name": "ipython",
    "version": 3
   },
   "file_extension": ".py",
   "mimetype": "text/x-python",
   "name": "python",
   "nbconvert_exporter": "python",
   "pygments_lexer": "ipython3",
   "version": "3.8.10"
  }
 },
 "nbformat": 4,
 "nbformat_minor": 4
}
