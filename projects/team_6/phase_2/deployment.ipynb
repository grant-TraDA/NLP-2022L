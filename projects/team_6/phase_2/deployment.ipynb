{
 "cells": [
  {
   "cell_type": "code",
   "execution_count": 1,
   "metadata": {},
   "outputs": [
    {
     "name": "stderr",
     "output_type": "stream",
     "text": [
      "/Users/karol/Desktop/studia/NLP/venv/lib/python3.10/site-packages/gradio/deprecation.py:40: UserWarning: `optional` parameter is deprecated, and it has no effect\n",
      "  warnings.warn(value)\n",
      "/Users/karol/Desktop/studia/NLP/venv/lib/python3.10/site-packages/gradio/deprecation.py:40: UserWarning: `numeric` parameter is deprecated, and it has no effect\n",
      "  warnings.warn(value)\n",
      "/Users/karol/Desktop/studia/NLP/venv/lib/python3.10/site-packages/gradio/deprecation.py:40: UserWarning: The 'type' parameter has been deprecated. Use the Number component instead.\n",
      "  warnings.warn(value)\n"
     ]
    },
    {
     "name": "stdout",
     "output_type": "stream",
     "text": [
      "Running on local URL:  http://127.0.0.1:7872/\n",
      "\n",
      "To create a public link, set `share=True` in `launch()`.\n"
     ]
    },
    {
     "data": {
      "text/html": [
       "<div><iframe src=\"http://127.0.0.1:7872/\" width=\"900\" height=\"500\" allow=\"autoplay; camera; microphone;\" frameborder=\"0\" allowfullscreen></iframe></div>"
      ],
      "text/plain": [
       "<IPython.core.display.HTML object>"
      ]
     },
     "metadata": {},
     "output_type": "display_data"
    },
    {
     "data": {
      "text/plain": [
       "(<gradio.routes.App at 0x130b4bd90>, 'http://127.0.0.1:7872/', None)"
      ]
     },
     "execution_count": 1,
     "metadata": {},
     "output_type": "execute_result"
    }
   ],
   "source": [
    "import gradio as gr\n",
    "import os\n",
    "import pickle\n",
    "import models\n",
    "\n",
    "\n",
    "def question_answer(Sentence, Model):\n",
    "    classifier = None\n",
    "    if os.path.exists(f'cache/{Model}.pickle'):\n",
    "        with open(f'cache/{Model}.pickle', 'rb') as f:\n",
    "            classifier = pickle.load(f)\n",
    "    if Model == 'DecisionTree':\n",
    "        with open(f'cache/CountVectorizer.pickle', 'rb') as f:\n",
    "            vectorizer = pickle.load(f)\n",
    "            Sentence = vectorizer.transform([Sentence])\n",
    "            if Sentence is None:\n",
    "                return 'Unknown'\n",
    "    else:\n",
    "        Sentence = [Sentence]\n",
    "    predictions = classifier.predict(Sentence)\n",
    "    return ['Neutral', 'Cyber-bullying', 'Hate speech'][predictions[0]]\n",
    "\n",
    "gr.Interface(fn=question_answer, inputs=[gr.inputs.Textbox(5, default = \"tak minister edukacji uczy dzieci kolejny pisowski klamca oszust i zlodziej\"),\n",
    "gr.inputs.Dropdown(['SVM', 'DecisionTree'])], outputs=[gr.outputs.Textbox(label=\"Class\")], allow_flagging='never').launch()"
   ]
  }
 ],
 "metadata": {
  "interpreter": {
   "hash": "c44d78612975d6a682c1c77b6eac26b292e3d5a99bc9f5a06e0b2edd2765dcbe"
  },
  "kernelspec": {
   "display_name": "Python 3.10.2 ('venv': venv)",
   "language": "python",
   "name": "python3"
  },
  "language_info": {
   "codemirror_mode": {
    "name": "ipython",
    "version": 3
   },
   "file_extension": ".py",
   "mimetype": "text/x-python",
   "name": "python",
   "nbconvert_exporter": "python",
   "pygments_lexer": "ipython3",
   "version": "3.10.2"
  },
  "orig_nbformat": 4
 },
 "nbformat": 4,
 "nbformat_minor": 2
}
