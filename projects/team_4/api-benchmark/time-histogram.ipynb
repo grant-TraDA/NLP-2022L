{
 "cells": [
  {
   "cell_type": "code",
   "execution_count": 6,
   "metadata": {},
   "outputs": [],
   "source": [
    "import matplotlib.pyplot as plt\n",
    "import json\n",
    "import statistics as stats"
   ]
  },
  {
   "cell_type": "code",
   "execution_count": 7,
   "metadata": {},
   "outputs": [
    {
     "name": "stdout",
     "output_type": "stream",
     "text": [
      "mean:  224.35\n",
      "std:   21.04795753788278\n",
      "min:   159\n",
      "max:   376\n"
     ]
    },
    {
     "data": {
      "image/png": "[encoded data removed]",
      "text/plain": [
       "<Figure size 432x288 with 1 Axes>"
      ]
     },
     "metadata": {
      "needs_background": "light"
     },
     "output_type": "display_data"
    }
   ],
   "source": [
    "with open(\"benchmark-results.json\") as file:\n",
    "    result = json.load(file)\n",
    "    times = result[\"results\"][0][\"times\"]\n",
    "    print(\"mean: \", stats.mean(times))\n",
    "    print(\"std:  \", stats.stdev(times))\n",
    "    print(\"min:  \", min(times))\n",
    "    print(\"max:  \", max(times))\n",
    "    plt.hist(times)\n",
    "    plt.xlabel(\"Request time [ms]\")\n",
    "    plt.ylabel(\"Number of requests\")\n",
    "    plt.show()"
   ]
  }
 ],
 "metadata": {
  "interpreter": {
   "hash": "916dbcbb3f70747c44a77c7bcd40155683ae19c65e1c03b4aa3499c5328201f1"
  },
  "kernelspec": {
   "display_name": "Python 3.8.10 64-bit",
   "language": "python",
   "name": "python3"
  },
  "language_info": {
   "codemirror_mode": {
    "name": "ipython",
    "version": 3
   },
   "file_extension": ".py",
   "mimetype": "text/x-python",
   "name": "python",
   "nbconvert_exporter": "python",
   "pygments_lexer": "ipython3",
   "version": "3.8.10"
  },
  "orig_nbformat": 4
 },
 "nbformat": 4,
 "nbformat_minor": 2
}
