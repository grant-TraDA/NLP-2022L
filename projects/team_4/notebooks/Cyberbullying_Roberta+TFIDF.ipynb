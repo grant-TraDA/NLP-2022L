{
 "cells": [
  {
   "cell_type": "markdown",
   "metadata": {},
   "source": [
    "Combination of RoBERTa and TFIDF tests"
   ]
  },
  {
   "cell_type": "markdown",
   "metadata": {},
   "source": [
    "Linear SVM"
   ]
  },
  {
   "cell_type": "code",
   "execution_count": 59,
   "metadata": {
    "id": "NAFbL9_LHZxk"
   },
   "outputs": [
    {
     "name": "stdout",
     "output_type": "stream",
     "text": [
      "[LibLinear]........................................................................................................................................................**.***.*\n",
      "optimization finished, #iter = 1541\n",
      "Objective value = -406.232285\n",
      "nSV = 2848\n",
      "...........................................................................................................................................................................................................................................................................................................................................................................................................................................................................................................................................................................................................................................................................................................................................................................................................................................................................................*...............................................................**.\n",
      "optimization finished, #iter = 9230\n",
      "Objective value = -245.089901\n",
      "nSV = 1363\n",
      "..................................................................................................................................................................................................................................................................................................................................................................................................................................................................................................................................................................................................................................................................*........................................................**\n",
      "optimization finished, #iter = 6986\n",
      "Objective value = -477.301832\n",
      "nSV = 2193\n",
      "Micro F1-score: 0.8960000000000001\n",
      "Macro F1-score: 0.5598788317583959\n"
     ]
    }
   ],
   "source": [
    "from sklearn import svm\n",
    "clf = svm.LinearSVC(class_weight=\"balanced\", max_iter=100_000, dual=True, verbose=1)\n",
    "clf.fit(train_x, train_y)\n",
    "predict_stats(clf, test_x, test_y)"
   ]
  },
  {
   "cell_type": "markdown",
   "metadata": {},
   "source": [
    "SVM with RBF kernel"
   ]
  },
  {
   "cell_type": "code",
   "execution_count": 34,
   "metadata": {
    "id": "NAFbL9_LHZxk"
   },
   "outputs": [
    {
     "name": "stdout",
     "output_type": "stream",
     "text": [
      "[LibSVM]...\n",
      "Warning: using -h 0 may be faster\n",
      "*.*\n",
      "optimization finished, #iter = 3969\n",
      "obj = -1577.528151, rho = -2.871366\n",
      "nSV = 3317, nBSV = 3020\n",
      "....*.*\n",
      "optimization finished, #iter = 4594\n",
      "obj = -1942.854395, rho = -2.853862\n",
      "nSV = 3766, nBSV = 3230\n",
      ".*\n",
      "optimization finished, #iter = 1571\n",
      "obj = -2444.826936, rho = 1.774464\n",
      "nSV = 621, nBSV = 298\n",
      "Total nSV = 4938\n",
      "Micro F1-score: 0.848\n",
      "Macro F1-score: 0.5702113590312914\n"
     ]
    }
   ],
   "source": [
    "from sklearn import svm\n",
    "clf = svm.SVC(class_weight=\"balanced\", verbose=1)\n",
    "clf.fit(train_x, train_y)\n",
    "predict_stats(clf, test_x, test_y)"
   ]
  },
  {
   "cell_type": "markdown",
   "metadata": {},
   "source": [
    "Custom MLP"
   ]
  },
  {
   "cell_type": "code",
   "execution_count": 28,
   "metadata": {},
   "outputs": [],
   "source": [
    "from tensorflow.keras import Sequential\n",
    "from tensorflow.keras.layers import Dense, Dropout\n",
    "model = Sequential()\n",
    "model.add(Dense(512, input_shape=train_x[0].shape, activation=\"relu\", kernel_initializer=\"he_normal\"))\n",
    "model.add(Dropout(0.65))\n",
    "model.add(Dense(64, activation=\"relu\", kernel_initializer=\"he_normal\"))\n",
    "model.add(Dropout(0.65))\n",
    "model.add(Dense(3, activation=\"softmax\", kernel_initializer=\"he_normal\"))\n",
    "model.compile(optimizer=\"adam\", loss=\"categorical_crossentropy\", metrics=[\"accuracy\"])"
   ]
  },
  {
   "cell_type": "code",
   "execution_count": 29,
   "metadata": {},
   "outputs": [],
   "source": [
    "epochs = 10\n",
    "count = len(train_y)\n",
    "class_weights = np.sum(train_y_ohe, axis=0)\n",
    "class_weights = { i : (count - w) / count for i,w in enumerate(class_weights)}"
   ]
  },
  {
   "cell_type": "code",
   "execution_count": 30,
   "metadata": {},
   "outputs": [
    {
     "name": "stdout",
     "output_type": "stream",
     "text": [
      "Epoch 1/7\n"
     ]
    },
    {
     "name": "stderr",
     "output_type": "stream",
     "text": [
      "2022-05-09 23:57:37.740847: W tensorflow/core/framework/cpu_allocator_impl.cc:82] Allocation of 947508924 exceeds 10% of free system memory.\n"
     ]
    },
    {
     "name": "stdout",
     "output_type": "stream",
     "text": [
      "314/314 [==============================] - 18s 55ms/step - loss: 0.1362 - accuracy: 0.7955 - val_loss: 0.3690 - val_accuracy: 0.8730\n",
      "Epoch 2/7\n",
      "314/314 [==============================] - 18s 56ms/step - loss: 0.1133 - accuracy: 0.8130 - val_loss: 0.3860 - val_accuracy: 0.8580\n",
      "Epoch 3/7\n",
      "314/314 [==============================] - 17s 54ms/step - loss: 0.1093 - accuracy: 0.8119 - val_loss: 0.3427 - val_accuracy: 0.8810\n",
      "Epoch 4/7\n",
      "314/314 [==============================] - 17s 54ms/step - loss: 0.1022 - accuracy: 0.8335 - val_loss: 0.4424 - val_accuracy: 0.8140\n",
      "Epoch 5/7\n",
      "314/314 [==============================] - 18s 56ms/step - loss: 0.0953 - accuracy: 0.8383 - val_loss: 0.2838 - val_accuracy: 0.8840\n",
      "Epoch 6/7\n",
      "314/314 [==============================] - 17s 54ms/step - loss: 0.0903 - accuracy: 0.8444 - val_loss: 0.3145 - val_accuracy: 0.8810\n",
      "Epoch 7/7\n",
      "314/314 [==============================] - 16s 50ms/step - loss: 0.0884 - accuracy: 0.8512 - val_loss: 0.2938 - val_accuracy: 0.8830\n"
     ]
    }
   ],
   "source": [
    "feature = model.fit(\n",
    "    train_x_np,\n",
    "    train_y_ohe,\n",
    "    epochs=epochs,\n",
    "    batch_size=32,\n",
    "    class_weight=class_weights,\n",
    "    verbose=1,\n",
    "    validation_data=(test_x_np, test_y_ohe)\n",
    ")"
   ]
  },
  {
   "cell_type": "code",
   "execution_count": 31,
   "metadata": {
    "scrolled": true
   },
   "outputs": [
    {
     "data": {
      "text/html": [
       "<div>\n",
       "<style scoped>\n",
       "    .dataframe tbody tr th:only-of-type {\n",
       "        vertical-align: middle;\n",
       "    }\n",
       "\n",
       "    .dataframe tbody tr th {\n",
       "        vertical-align: top;\n",
       "    }\n",
       "\n",
       "    .dataframe thead th {\n",
       "        text-align: right;\n",
       "    }\n",
       "</style>\n",
       "<table border=\"1\" class=\"dataframe\">\n",
       "  <thead>\n",
       "    <tr style=\"text-align: right;\">\n",
       "      <th></th>\n",
       "      <th>training_accuracy</th>\n",
       "      <th>training_loss</th>\n",
       "      <th>test_accuracy</th>\n",
       "      <th>test_loss</th>\n",
       "      <th>epoch</th>\n",
       "    </tr>\n",
       "  </thead>\n",
       "  <tbody>\n",
       "    <tr>\n",
       "      <th>0</th>\n",
       "      <td>0.795538</td>\n",
       "      <td>0.136200</td>\n",
       "      <td>0.873</td>\n",
       "      <td>0.368986</td>\n",
       "      <td>1</td>\n",
       "    </tr>\n",
       "    <tr>\n",
       "      <th>1</th>\n",
       "      <td>0.812967</td>\n",
       "      <td>0.113317</td>\n",
       "      <td>0.858</td>\n",
       "      <td>0.386049</td>\n",
       "      <td>2</td>\n",
       "    </tr>\n",
       "    <tr>\n",
       "      <th>2</th>\n",
       "      <td>0.811871</td>\n",
       "      <td>0.109303</td>\n",
       "      <td>0.881</td>\n",
       "      <td>0.342703</td>\n",
       "      <td>3</td>\n",
       "    </tr>\n",
       "    <tr>\n",
       "      <th>3</th>\n",
       "      <td>0.833483</td>\n",
       "      <td>0.102231</td>\n",
       "      <td>0.814</td>\n",
       "      <td>0.442435</td>\n",
       "      <td>4</td>\n",
       "    </tr>\n",
       "    <tr>\n",
       "      <th>4</th>\n",
       "      <td>0.838263</td>\n",
       "      <td>0.095337</td>\n",
       "      <td>0.884</td>\n",
       "      <td>0.283813</td>\n",
       "      <td>5</td>\n",
       "    </tr>\n",
       "    <tr>\n",
       "      <th>5</th>\n",
       "      <td>0.844438</td>\n",
       "      <td>0.090264</td>\n",
       "      <td>0.881</td>\n",
       "      <td>0.314488</td>\n",
       "      <td>6</td>\n",
       "    </tr>\n",
       "    <tr>\n",
       "      <th>6</th>\n",
       "      <td>0.851210</td>\n",
       "      <td>0.088422</td>\n",
       "      <td>0.883</td>\n",
       "      <td>0.293769</td>\n",
       "      <td>7</td>\n",
       "    </tr>\n",
       "  </tbody>\n",
       "</table>\n",
       "</div>"
      ],
      "text/plain": [
       "   training_accuracy  training_loss  test_accuracy  test_loss  epoch\n",
       "0           0.795538       0.136200          0.873   0.368986      1\n",
       "1           0.812967       0.113317          0.858   0.386049      2\n",
       "2           0.811871       0.109303          0.881   0.342703      3\n",
       "3           0.833483       0.102231          0.814   0.442435      4\n",
       "4           0.838263       0.095337          0.884   0.283813      5\n",
       "5           0.844438       0.090264          0.881   0.314488      6\n",
       "6           0.851210       0.088422          0.883   0.293769      7"
      ]
     },
     "execution_count": 31,
     "metadata": {},
     "output_type": "execute_result"
    }
   ],
   "source": [
    "results = pd.DataFrame({\n",
    "    \"training_accuracy\": feature.history[\"accuracy\"],\n",
    "    \"training_loss\": feature.history[\"loss\"],\n",
    "    \"test_accuracy\": feature.history[\"val_accuracy\"],\n",
    "    \"test_loss\": feature.history[\"val_loss\"],\n",
    "    \"epoch\": list(range(1, epochs + 1))\n",
    "})\n",
    "results"
   ]
  },
  {
   "cell_type": "code",
   "execution_count": 32,
   "metadata": {},
   "outputs": [
    {
     "data": {
      "image/png": "[encoded data removed]",
      "text/plain": [
       "<Figure size 432x288 with 2 Axes>"
      ]
     },
     "metadata": {
      "needs_background": "light"
     },
     "output_type": "display_data"
    }
   ],
   "source": [
    "patches = [\n",
    "    Patch(color='dodgerblue',label='Train accuracy'),\n",
    "    Patch(color='mediumspringgreen',label='Test accuracy'),\n",
    "    Patch(color='orange',label='Train loss'),\n",
    "    Patch(color='firebrick',label='Test loss')\n",
    "]\n",
    "\n",
    "fig, ax1 = plt.subplots()\n",
    "\n",
    "ax1.plot(results[\"epoch\"],results[\"training_accuracy\"],'dodgerblue')\n",
    "ax1.plot(results[\"epoch\"],results[\"test_accuracy\"],'mediumspringgreen')\n",
    "ax1.set_ylabel(\"Accuracy\")\n",
    "\n",
    "ax2 = ax1.twinx()\n",
    "ax2.plot(results[\"epoch\"],results[\"training_loss\"],'orange')\n",
    "ax2.plot(results[\"epoch\"],results[\"test_loss\"],'firebrick')\n",
    "ax2.set_ylabel(\"Loss\")\n",
    "\n",
    "plt.legend(handles=patches)\n",
    "plt.show()"
   ]
  },
  {
   "cell_type": "code",
   "execution_count": 33,
   "metadata": {
    "scrolled": true
   },
   "outputs": [
    {
     "name": "stdout",
     "output_type": "stream",
     "text": [
      "Micro F1-score: 0.883\n",
      "Macro F1-score: 0.5384718635815128\n"
     ]
    }
   ],
   "source": [
    "predictions = np.argmax(model.predict(test_x_np), axis=1)\n",
    "y_true = np.argmax(test_y_ohe, axis=1)\n",
    "stats(y_true, predictions)"
   ]
  }
 ],
 "metadata": {
  "colab": {
   "collapsed_sections": [],
   "name": "Cyberbullying Roberta",
   "provenance": []
  },
  "interpreter": {
   "hash": "916dbcbb3f70747c44a77c7bcd40155683ae19c65e1c03b4aa3499c5328201f1"
  },
  "kernelspec": {
   "display_name": "Python 3.8.10 64-bit",
   "language": "python",
   "name": "python3"
  },
  "language_info": {
   "codemirror_mode": {
    "name": "ipython",
    "version": 3
   },
   "file_extension": ".py",
   "mimetype": "text/x-python",
   "name": "python",
   "nbconvert_exporter": "python",
   "pygments_lexer": "ipython3",
   "version": "3.8.10"
  }
 },
 "nbformat": 4,
 "nbformat_minor": 1
}
