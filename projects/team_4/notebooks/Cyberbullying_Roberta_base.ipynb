{
 "cells": [
  {
   "cell_type": "markdown",
   "metadata": {},
   "source": [
    "RoBERTa base tests"
   ]
  },
  {
   "cell_type": "markdown",
   "metadata": {},
   "source": [
    "Linear SVM"
   ]
  },
  {
   "cell_type": "code",
   "execution_count": 42,
   "metadata": {
    "id": "NAFbL9_LHZxk"
   },
   "outputs": [
    {
     "name": "stdout",
     "output_type": "stream",
     "text": [
      "Micro F1-score: 0.861\n",
      "Macro F1-score: 0.5197059563022414\n"
     ]
    }
   ],
   "source": [
    "from sklearn import svm\n",
    "clf = svm.LinearSVC(class_weight=\"balanced\", dual=False)\n",
    "clf.fit(train_x, train_y)\n",
    "predict_stats(clf, test_x, test_y)"
   ]
  },
  {
   "cell_type": "markdown",
   "metadata": {},
   "source": [
    "SVM with RBF kernel"
   ]
  },
  {
   "cell_type": "code",
   "execution_count": 43,
   "metadata": {},
   "outputs": [
    {
     "name": "stdout",
     "output_type": "stream",
     "text": [
      "Micro F1-score: 0.8119999999999999\n",
      "Macro F1-score: 0.5220462264637183\n"
     ]
    }
   ],
   "source": [
    "from sklearn import svm\n",
    "clf = svm.SVC(class_weight=\"balanced\")\n",
    "clf.fit(train_x, train_y)\n",
    "predict_stats(clf, test_x, test_y)"
   ]
  },
  {
   "cell_type": "markdown",
   "metadata": {},
   "source": [
    "Random Forest"
   ]
  },
  {
   "cell_type": "code",
   "execution_count": 44,
   "metadata": {},
   "outputs": [
    {
     "name": "stdout",
     "output_type": "stream",
     "text": [
      "Micro F1-score: 0.867\n",
      "Macro F1-score: 0.31562271508652207\n"
     ]
    }
   ],
   "source": [
    "from sklearn.ensemble import RandomForestClassifier\n",
    "clf = RandomForestClassifier(class_weight=\"balanced\")\n",
    "clf.fit(train_x, train_y)\n",
    "predict_stats(clf, test_x, test_y)"
   ]
  },
  {
   "cell_type": "markdown",
   "metadata": {},
   "source": [
    "SciKit Learn MLP"
   ]
  },
  {
   "cell_type": "code",
   "execution_count": 45,
   "metadata": {},
   "outputs": [
    {
     "name": "stdout",
     "output_type": "stream",
     "text": [
      "Micro F1-score: 0.885\n",
      "Macro F1-score: 0.47874377357404047\n"
     ]
    }
   ],
   "source": [
    "from sklearn.neural_network import MLPClassifier\n",
    "clf = MLPClassifier()\n",
    "clf.fit(train_x, train_y)\n",
    "predict_stats(clf, test_x, test_y)"
   ]
  },
  {
   "cell_type": "markdown",
   "metadata": {},
   "source": [
    "Custom MLP"
   ]
  },
  {
   "cell_type": "code",
   "execution_count": 46,
   "metadata": {},
   "outputs": [],
   "source": [
    "from tensorflow.keras import Sequential\n",
    "from tensorflow.keras.layers import Dense, Dropout\n",
    "model = Sequential()\n",
    "model.add(Dense(512, input_shape=(768,), activation=\"relu\", kernel_initializer=\"he_normal\"))\n",
    "model.add(Dropout(0.25))\n",
    "model.add(Dense(64, activation=\"relu\", kernel_initializer=\"he_normal\"))\n",
    "model.add(Dropout(0.35))\n",
    "model.add(Dense(3, activation=\"softmax\", kernel_initializer=\"he_normal\"))\n",
    "model.compile(optimizer=\"adam\", loss=\"categorical_crossentropy\", metrics=[\"accuracy\"])"
   ]
  },
  {
   "cell_type": "code",
   "execution_count": 48,
   "metadata": {},
   "outputs": [],
   "source": [
    "epochs = 3\n",
    "count = len(train_y)\n",
    "class_weights = np.sum(train_y_ohe, axis=0)\n",
    "class_weights = { i : (count - w) / count for i,w in enumerate(class_weights)}"
   ]
  },
  {
   "cell_type": "code",
   "execution_count": 49,
   "metadata": {},
   "outputs": [
    {
     "name": "stdout",
     "output_type": "stream",
     "text": [
      "Epoch 1/3\n",
      "314/314 - 2s - loss: 0.1314 - accuracy: 0.7724 - val_loss: 0.6490 - val_accuracy: 0.7130 - 2s/epoch - 6ms/step\n",
      "Epoch 2/3\n",
      "314/314 - 1s - loss: 0.1116 - accuracy: 0.8094 - val_loss: 0.3920 - val_accuracy: 0.8430 - 1s/epoch - 4ms/step\n",
      "Epoch 3/3\n",
      "314/314 - 1s - loss: 0.1047 - accuracy: 0.8087 - val_loss: 0.4293 - val_accuracy: 0.8390 - 1s/epoch - 4ms/step\n"
     ]
    }
   ],
   "source": [
    "feature = model.fit(\n",
    "    train_x_np,\n",
    "    train_y_ohe,\n",
    "    epochs=epochs,\n",
    "    batch_size=32,\n",
    "    class_weight=class_weights,\n",
    "    verbose=2,\n",
    "    validation_data=(test_x_np, test_y_ohe)\n",
    ")"
   ]
  },
  {
   "cell_type": "code",
   "execution_count": 50,
   "metadata": {
    "scrolled": true
   },
   "outputs": [
    {
     "data": {
      "text/html": [
       "<div>\n",
       "<style scoped>\n",
       "    .dataframe tbody tr th:only-of-type {\n",
       "        vertical-align: middle;\n",
       "    }\n",
       "\n",
       "    .dataframe tbody tr th {\n",
       "        vertical-align: top;\n",
       "    }\n",
       "\n",
       "    .dataframe thead th {\n",
       "        text-align: right;\n",
       "    }\n",
       "</style>\n",
       "<table border=\"1\" class=\"dataframe\">\n",
       "  <thead>\n",
       "    <tr style=\"text-align: right;\">\n",
       "      <th></th>\n",
       "      <th>training_accuracy</th>\n",
       "      <th>training_loss</th>\n",
       "      <th>test_accuracy</th>\n",
       "      <th>test_loss</th>\n",
       "      <th>epoch</th>\n",
       "    </tr>\n",
       "  </thead>\n",
       "  <tbody>\n",
       "    <tr>\n",
       "      <th>0</th>\n",
       "      <td>0.772433</td>\n",
       "      <td>0.131423</td>\n",
       "      <td>0.713</td>\n",
       "      <td>0.649030</td>\n",
       "      <td>1</td>\n",
       "    </tr>\n",
       "    <tr>\n",
       "      <th>1</th>\n",
       "      <td>0.809382</td>\n",
       "      <td>0.111551</td>\n",
       "      <td>0.843</td>\n",
       "      <td>0.392017</td>\n",
       "      <td>2</td>\n",
       "    </tr>\n",
       "    <tr>\n",
       "      <th>2</th>\n",
       "      <td>0.808684</td>\n",
       "      <td>0.104735</td>\n",
       "      <td>0.839</td>\n",
       "      <td>0.429255</td>\n",
       "      <td>3</td>\n",
       "    </tr>\n",
       "  </tbody>\n",
       "</table>\n",
       "</div>"
      ],
      "text/plain": [
       "   training_accuracy  training_loss  test_accuracy  test_loss  epoch\n",
       "0           0.772433       0.131423          0.713   0.649030      1\n",
       "1           0.809382       0.111551          0.843   0.392017      2\n",
       "2           0.808684       0.104735          0.839   0.429255      3"
      ]
     },
     "execution_count": 50,
     "metadata": {},
     "output_type": "execute_result"
    }
   ],
   "source": [
    "results = pd.DataFrame({\n",
    "    \"training_accuracy\": feature.history[\"accuracy\"],\n",
    "    \"training_loss\": feature.history[\"loss\"],\n",
    "    \"test_accuracy\": feature.history[\"val_accuracy\"],\n",
    "    \"test_loss\": feature.history[\"val_loss\"],\n",
    "    \"epoch\": list(range(1, epochs + 1))\n",
    "})\n",
    "results"
   ]
  },
  {
   "cell_type": "code",
   "execution_count": 51,
   "metadata": {},
   "outputs": [
    {
     "data": {
      "image/png": "[encoded data removed]",
      "text/plain": [
       "<Figure size 432x288 with 2 Axes>"
      ]
     },
     "metadata": {
      "needs_background": "light"
     },
     "output_type": "display_data"
    }
   ],
   "source": [
    "patches = [\n",
    "    Patch(color='dodgerblue',label='Train accuracy'),\n",
    "    Patch(color='mediumspringgreen',label='Test accuracy'),\n",
    "    Patch(color='orange',label='Train loss'),\n",
    "    Patch(color='firebrick',label='Test loss')\n",
    "]\n",
    "\n",
    "fig, ax1 = plt.subplots()\n",
    "\n",
    "ax1.plot(results[\"epoch\"],results[\"training_accuracy\"],'dodgerblue')\n",
    "ax1.plot(results[\"epoch\"],results[\"test_accuracy\"],'mediumspringgreen')\n",
    "ax1.set_ylabel(\"Accuracy\")\n",
    "\n",
    "ax2 = ax1.twinx()\n",
    "ax2.plot(results[\"epoch\"],results[\"training_loss\"],'orange')\n",
    "ax2.plot(results[\"epoch\"],results[\"test_loss\"],'firebrick')\n",
    "ax2.set_ylabel(\"Loss\")\n",
    "\n",
    "plt.legend(handles=patches)\n",
    "plt.show()"
   ]
  },
  {
   "cell_type": "code",
   "execution_count": 52,
   "metadata": {
    "scrolled": true
   },
   "outputs": [
    {
     "name": "stdout",
     "output_type": "stream",
     "text": [
      "Micro F1-score: 0.839\n",
      "Macro F1-score: 0.5310528640282088\n"
     ]
    }
   ],
   "source": [
    "predictions = np.argmax(model.predict(test_x_np), axis=1)\n",
    "y_true = np.argmax(test_y_ohe, axis=1)\n",
    "stats(y_true, predictions)"
   ]
  }
 ],
 "metadata": {
  "colab": {
   "collapsed_sections": [],
   "name": "Cyberbullying Roberta",
   "provenance": []
  },
  "interpreter": {
   "hash": "916dbcbb3f70747c44a77c7bcd40155683ae19c65e1c03b4aa3499c5328201f1"
  },
  "kernelspec": {
   "display_name": "Python 3.8.10 64-bit",
   "language": "python",
   "name": "python3"
  },
  "language_info": {
   "codemirror_mode": {
    "name": "ipython",
    "version": 3
   },
   "file_extension": ".py",
   "mimetype": "text/x-python",
   "name": "python",
   "nbconvert_exporter": "python",
   "pygments_lexer": "ipython3",
   "version": "3.8.10"
  }
 },
 "nbformat": 4,
 "nbformat_minor": 1
}
