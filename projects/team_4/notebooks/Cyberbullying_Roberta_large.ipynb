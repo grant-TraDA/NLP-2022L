{
 "cells": [
  {
   "cell_type": "markdown",
   "metadata": {},
   "source": [
    "RoBERTa large tests"
   ]
  },
  {
   "cell_type": "markdown",
   "metadata": {},
   "source": [
    "Linear SVM"
   ]
  },
  {
   "cell_type": "code",
   "execution_count": 17,
   "metadata": {
    "id": "NAFbL9_LHZxk"
   },
   "outputs": [
    {
     "name": "stdout",
     "output_type": "stream",
     "text": [
      "Micro F1-score: 0.875\n",
      "Macro F1-score: 0.5246917576681712\n"
     ]
    }
   ],
   "source": [
    "from sklearn import svm\n",
    "clf = svm.LinearSVC(class_weight=\"balanced\", dual=False)\n",
    "clf.fit(train_x, train_y)\n",
    "predict_stats(clf, test_x, test_y)"
   ]
  },
  {
   "cell_type": "markdown",
   "metadata": {},
   "source": [
    "SVM with RBF kernel"
   ]
  },
  {
   "cell_type": "code",
   "execution_count": 18,
   "metadata": {},
   "outputs": [
    {
     "name": "stdout",
     "output_type": "stream",
     "text": [
      "Micro F1-score: 0.844\n",
      "Macro F1-score: 0.5714370190360469\n"
     ]
    }
   ],
   "source": [
    "from sklearn import svm\n",
    "clf = svm.SVC(class_weight=\"balanced\")\n",
    "clf.fit(train_x, train_y)\n",
    "predict_stats(clf, test_x, test_y)"
   ]
  },
  {
   "cell_type": "markdown",
   "metadata": {},
   "source": [
    "Random Forest"
   ]
  },
  {
   "cell_type": "code",
   "execution_count": 19,
   "metadata": {},
   "outputs": [
    {
     "name": "stdout",
     "output_type": "stream",
     "text": [
      "Micro F1-score: 0.866\n",
      "Macro F1-score: 0.3093962129331904\n"
     ]
    }
   ],
   "source": [
    "from sklearn.ensemble import RandomForestClassifier\n",
    "clf = RandomForestClassifier(class_weight=\"balanced\")\n",
    "clf.fit(train_x, train_y)\n",
    "predict_stats(clf, test_x, test_y)"
   ]
  },
  {
   "cell_type": "markdown",
   "metadata": {},
   "source": [
    "SciKit Learn MLP"
   ]
  },
  {
   "cell_type": "code",
   "execution_count": 20,
   "metadata": {},
   "outputs": [
    {
     "name": "stdout",
     "output_type": "stream",
     "text": [
      "Micro F1-score: 0.89\n",
      "Macro F1-score: 0.508031233554164\n"
     ]
    }
   ],
   "source": [
    "from sklearn.neural_network import MLPClassifier\n",
    "clf = MLPClassifier()\n",
    "clf.fit(train_x, train_y)\n",
    "predict_stats(clf, test_x, test_y)"
   ]
  },
  {
   "cell_type": "markdown",
   "metadata": {},
   "source": [
    "Custom MLP"
   ]
  },
  {
   "cell_type": "code",
   "execution_count": 37,
   "metadata": {},
   "outputs": [],
   "source": [
    "from tensorflow.keras import Sequential\n",
    "from tensorflow.keras.layers import Dense, Dropout\n",
    "model = Sequential()\n",
    "model.add(Dense(512, input_shape=(1024,), activation=\"relu\", kernel_initializer=\"he_normal\"))\n",
    "model.add(Dropout(0.65))\n",
    "model.add(Dense(64, activation=\"relu\", kernel_initializer=\"he_normal\"))\n",
    "model.add(Dropout(0.65))\n",
    "model.add(Dense(3, activation=\"softmax\", kernel_initializer=\"he_normal\"))\n",
    "model.compile(optimizer=\"adam\", loss=\"categorical_crossentropy\", metrics=[\"accuracy\"])"
   ]
  },
  {
   "cell_type": "code",
   "execution_count": 39,
   "metadata": {},
   "outputs": [],
   "source": [
    "epochs = 5\n",
    "count = len(train_y)\n",
    "class_weights = np.sum(train_y_ohe, axis=0)\n",
    "class_weights = { i : (count - w) / count for i,w in enumerate(class_weights)}"
   ]
  },
  {
   "cell_type": "code",
   "execution_count": 40,
   "metadata": {},
   "outputs": [
    {
     "name": "stdout",
     "output_type": "stream",
     "text": [
      "Epoch 1/5\n",
      "314/314 - 5s - loss: 0.1468 - accuracy: 0.7644 - val_loss: 0.4464 - val_accuracy: 0.7940 - 5s/epoch - 15ms/step\n",
      "Epoch 2/5\n",
      "314/314 - 2s - loss: 0.1239 - accuracy: 0.7855 - val_loss: 0.5217 - val_accuracy: 0.7880 - 2s/epoch - 6ms/step\n",
      "Epoch 3/5\n",
      "314/314 - 2s - loss: 0.1148 - accuracy: 0.7940 - val_loss: 0.3818 - val_accuracy: 0.8680 - 2s/epoch - 5ms/step\n",
      "Epoch 4/5\n",
      "314/314 - 2s - loss: 0.1103 - accuracy: 0.8098 - val_loss: 0.3559 - val_accuracy: 0.8750 - 2s/epoch - 5ms/step\n",
      "Epoch 5/5\n",
      "314/314 - 2s - loss: 0.1049 - accuracy: 0.8131 - val_loss: 0.3473 - val_accuracy: 0.8520 - 2s/epoch - 5ms/step\n"
     ]
    }
   ],
   "source": [
    "feature = model.fit(\n",
    "    train_x_np,\n",
    "    train_y_ohe,\n",
    "    epochs=epochs,\n",
    "    batch_size=32,\n",
    "    class_weight=class_weights,\n",
    "    verbose=2,\n",
    "    validation_data=(test_x_np, test_y_ohe)\n",
    ")"
   ]
  },
  {
   "cell_type": "code",
   "execution_count": 41,
   "metadata": {
    "scrolled": true
   },
   "outputs": [
    {
     "data": {
      "text/html": [
       "<div>\n",
       "<style scoped>\n",
       "    .dataframe tbody tr th:only-of-type {\n",
       "        vertical-align: middle;\n",
       "    }\n",
       "\n",
       "    .dataframe tbody tr th {\n",
       "        vertical-align: top;\n",
       "    }\n",
       "\n",
       "    .dataframe thead th {\n",
       "        text-align: right;\n",
       "    }\n",
       "</style>\n",
       "<table border=\"1\" class=\"dataframe\">\n",
       "  <thead>\n",
       "    <tr style=\"text-align: right;\">\n",
       "      <th></th>\n",
       "      <th>training_accuracy</th>\n",
       "      <th>training_loss</th>\n",
       "      <th>test_accuracy</th>\n",
       "      <th>test_loss</th>\n",
       "      <th>epoch</th>\n",
       "    </tr>\n",
       "  </thead>\n",
       "  <tbody>\n",
       "    <tr>\n",
       "      <th>0</th>\n",
       "      <td>0.764366</td>\n",
       "      <td>0.146797</td>\n",
       "      <td>0.794</td>\n",
       "      <td>0.446438</td>\n",
       "      <td>1</td>\n",
       "    </tr>\n",
       "    <tr>\n",
       "      <th>1</th>\n",
       "      <td>0.785480</td>\n",
       "      <td>0.123913</td>\n",
       "      <td>0.788</td>\n",
       "      <td>0.521743</td>\n",
       "      <td>2</td>\n",
       "    </tr>\n",
       "    <tr>\n",
       "      <th>2</th>\n",
       "      <td>0.794044</td>\n",
       "      <td>0.114844</td>\n",
       "      <td>0.868</td>\n",
       "      <td>0.381815</td>\n",
       "      <td>3</td>\n",
       "    </tr>\n",
       "    <tr>\n",
       "      <th>3</th>\n",
       "      <td>0.809780</td>\n",
       "      <td>0.110274</td>\n",
       "      <td>0.875</td>\n",
       "      <td>0.355889</td>\n",
       "      <td>4</td>\n",
       "    </tr>\n",
       "    <tr>\n",
       "      <th>4</th>\n",
       "      <td>0.813066</td>\n",
       "      <td>0.104928</td>\n",
       "      <td>0.852</td>\n",
       "      <td>0.347267</td>\n",
       "      <td>5</td>\n",
       "    </tr>\n",
       "  </tbody>\n",
       "</table>\n",
       "</div>"
      ],
      "text/plain": [
       "   training_accuracy  training_loss  test_accuracy  test_loss  epoch\n",
       "0           0.764366       0.146797          0.794   0.446438      1\n",
       "1           0.785480       0.123913          0.788   0.521743      2\n",
       "2           0.794044       0.114844          0.868   0.381815      3\n",
       "3           0.809780       0.110274          0.875   0.355889      4\n",
       "4           0.813066       0.104928          0.852   0.347267      5"
      ]
     },
     "execution_count": 41,
     "metadata": {},
     "output_type": "execute_result"
    }
   ],
   "source": [
    "results = pd.DataFrame({\n",
    "    \"training_accuracy\": feature.history[\"accuracy\"],\n",
    "    \"training_loss\": feature.history[\"loss\"],\n",
    "    \"test_accuracy\": feature.history[\"val_accuracy\"],\n",
    "    \"test_loss\": feature.history[\"val_loss\"],\n",
    "    \"epoch\": list(range(1, epochs + 1))\n",
    "})\n",
    "results"
   ]
  },
  {
   "cell_type": "code",
   "execution_count": 42,
   "metadata": {},
   "outputs": [
    {
     "data": {
      "image/png": "[encoded data removed]",
      "text/plain": [
       "<Figure size 432x288 with 2 Axes>"
      ]
     },
     "metadata": {
      "needs_background": "light"
     },
     "output_type": "display_data"
    }
   ],
   "source": [
    "patches = [\n",
    "    Patch(color='dodgerblue',label='Train accuracy'),\n",
    "    Patch(color='mediumspringgreen',label='Test accuracy'),\n",
    "    Patch(color='orange',label='Train loss'),\n",
    "    Patch(color='firebrick',label='Test loss')\n",
    "]\n",
    "\n",
    "fig, ax1 = plt.subplots()\n",
    "\n",
    "ax1.plot(results[\"epoch\"],results[\"training_accuracy\"],'dodgerblue')\n",
    "ax1.plot(results[\"epoch\"],results[\"test_accuracy\"],'mediumspringgreen')\n",
    "ax1.set_ylabel(\"Accuracy\")\n",
    "\n",
    "ax2 = ax1.twinx()\n",
    "ax2.plot(results[\"epoch\"],results[\"training_loss\"],'orange')\n",
    "ax2.plot(results[\"epoch\"],results[\"test_loss\"],'firebrick')\n",
    "ax2.set_ylabel(\"Loss\")\n",
    "\n",
    "plt.legend(handles=patches)\n",
    "plt.show()"
   ]
  },
  {
   "cell_type": "code",
   "execution_count": 43,
   "metadata": {
    "scrolled": true
   },
   "outputs": [
    {
     "name": "stdout",
     "output_type": "stream",
     "text": [
      "Micro F1-score: 0.852\n",
      "Macro F1-score: 0.5444607902585977\n"
     ]
    }
   ],
   "source": [
    "predictions = np.argmax(model.predict(test_x_np), axis=1)\n",
    "y_true = np.argmax(test_y_ohe, axis=1)\n",
    "stats(y_true, predictions)"
   ]
  }
 ],
 "metadata": {
  "colab": {
   "collapsed_sections": [],
   "name": "Cyberbullying Roberta",
   "provenance": []
  },
  "interpreter": {
   "hash": "916dbcbb3f70747c44a77c7bcd40155683ae19c65e1c03b4aa3499c5328201f1"
  },
  "kernelspec": {
   "display_name": "Python 3.8.10 64-bit",
   "language": "python",
   "name": "python3"
  },
  "language_info": {
   "codemirror_mode": {
    "name": "ipython",
    "version": 3
   },
   "file_extension": ".py",
   "mimetype": "text/x-python",
   "name": "python",
   "nbconvert_exporter": "python",
   "pygments_lexer": "ipython3",
   "version": "3.8.10"
  }
 },
 "nbformat": 4,
 "nbformat_minor": 1
}
